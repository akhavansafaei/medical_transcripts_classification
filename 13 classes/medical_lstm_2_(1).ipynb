{
  "nbformat": 4,
  "nbformat_minor": 0,
  "metadata": {
    "colab": {
      "provenance": [],
      "gpuType": "T4"
    },
    "kernelspec": {
      "name": "python3",
      "display_name": "Python 3"
    },
    "language_info": {
      "name": "python"
    },
    "accelerator": "GPU"
  },
  "cells": [
    {
      "cell_type": "code",
      "execution_count": 1,
      "metadata": {
        "id": "d9xxPe3YEi-K",
        "colab": {
          "base_uri": "https://localhost:8080/"
        },
        "outputId": "72f6b5ce-dabd-4848-b4bd-58eefaacd46e"
      },
      "outputs": [
        {
          "output_type": "stream",
          "name": "stdout",
          "text": [
            "Mounted at /content/drive\n"
          ]
        }
      ],
      "source": [
        "from google.colab import drive\n",
        "drive.mount('/content/drive')"
      ]
    },
    {
      "cell_type": "code",
      "source": [
        "import pandas as pd\n",
        "\n",
        "# Load the train and test CSV files\n",
        "train = pd.read_csv('/content/drive/My Drive/train.csv')\n",
        "test = pd.read_csv('/content/drive/My Drive/test.csv')\n",
        "train=train[['text','ptext','index','label']]\n",
        "test=test[['text','ptext','index','label']]\n",
        "# Extract features (X) and labels (y) for train and test datasets\n",
        "X_train = train[['text', 'ptext']]\n",
        "y_train = train['label']\n",
        "\n",
        "X_test = test[['text', 'ptext']]\n",
        "y_test = test['label']\n"
      ],
      "metadata": {
        "id": "jl6znokhF3DL"
      },
      "execution_count": null,
      "outputs": []
    },
    {
      "cell_type": "code",
      "source": [
        "from sklearn.model_selection import train_test_split\n",
        "\n",
        "# Assuming you have a DataFrame 'data' with a 'label_index' column containing label indices\n",
        "\n",
        "# Split the data into training and test sets with stratified sampling\n",
        "#X_training, X_validation, y_training, y_validation = train_test_split(\n",
        "#    train[['text','ptext','index']],  # Features (TF-IDF vectors)\n",
        "#    train[['label','index']],      # Target variable (label indices)\n",
        "#    test_size=0.2,\n",
        "#    stratify=train['label'],  # Ensure stratified sampling based on label indices\n",
        "#    random_state=48  # Set a random seed for reproducibility\n",
        "#)\n",
        "\n",
        "# Merge X_train and y_train into the train DataFrame based on 'index' column\n",
        "#training = X_training.merge(y_training )\n",
        "\n",
        "# Merge X_test and y_test into the test DataFrame based on 'index' column\n",
        "#valid = X_validation.merge(y_validation)\n",
        "\n",
        "# Now, the 'train' and 'test' DataFrames are merged based on the 'index' column\n",
        "#training.to_csv('/content/drive/MyDrive/training.csv')\n",
        "#valid.to_csv('/content/drive/MyDrive/validation.csv')\n"
      ],
      "metadata": {
        "id": "Q4qT8-uAW1NZ"
      },
      "execution_count": null,
      "outputs": []
    },
    {
      "cell_type": "code",
      "source": [
        "import pandas as pd\n",
        "from sklearn.preprocessing import LabelEncoder\n",
        "\n",
        "# Assuming you have already renamed the \"medical_specialty\" column to \"label\"\n",
        "\n",
        "# Create a LabelEncoder instance\n",
        "label_encoder = LabelEncoder()\n",
        "\n",
        "# Fit the encoder to your unique labels and transform the \"label\" column\n",
        "\n",
        "# Load the train and test CSV files\n",
        "train = pd.read_csv('/content/drive/My Drive/training.csv')\n",
        "valid=pd.read_csv('/content/drive/My Drive/validation.csv')\n",
        "test = pd.read_csv('/content/drive/My Drive/test.csv')\n",
        "# List of categories\n",
        "categories = [\n",
        "    \"Surgery\",\n",
        "    \"Consult - History and Phy.\",\n",
        "    \"Cardiovascular / Pulmonary\",\n",
        "    \"Orthopedic\",\n",
        "    \"Radiology\",\n",
        "    \"General Medicine\",\n",
        "    \"Gastroenterology\",\n",
        "    \"Neurology\",\n",
        "    \"SOAP / Chart / Progress Notes\",\n",
        "    \"Obstetrics / Gynecology\",\n",
        "    \"Urology\",\n",
        "    \"Discharge Summary\"\n",
        "]\n",
        "specialty_numbers=[38, 5, 3, 27, 33, 15, 14, 22, 35, 24, 39, 10]\n",
        "# Iterate through the 'label' column of train, test, and valid dataframes\n",
        "for df in [train, test, valid]:\n",
        "    df['label'] = df['label'].apply(lambda x: x if x in specialty_numbers else 40)\n",
        "    df['label'] = label_encoder.fit_transform(df['label'])\n",
        "\n",
        "\n",
        "# Now, the 'label' column in train, test, and valid contains only values in 'categories' or 'others'\n",
        "\n",
        "train=train[['text','ptext','index','label']]\n",
        "valid=valid[['text','ptext','index','label']]\n",
        "test=test[['text','ptext','index','label']]\n",
        "# Extract features (X) and labels (y) for train and test datasets\n",
        "X_train = train[['text', 'ptext']]\n",
        "y_train = train['label']\n",
        "\n",
        "X_valid=valid[['text', 'ptext']]\n",
        "y_valid = valid['label']\n",
        "\n",
        "X_test = test[['text', 'ptext']]\n",
        "y_test = test['label']\n"
      ],
      "metadata": {
        "id": "D3QtFKnfYNUL"
      },
      "execution_count": 2,
      "outputs": []
    },
    {
      "cell_type": "code",
      "source": [
        "specialty_counts = test['label'].value_counts()\n",
        "(specialty_counts)"
      ],
      "metadata": {
        "colab": {
          "base_uri": "https://localhost:8080/"
        },
        "id": "ZYUyPiF2qSDX",
        "outputId": "b37f8303-9cb3-4ec8-b8b3-7db0aba95cb1"
      },
      "execution_count": 5,
      "outputs": [
        {
          "output_type": "execute_result",
          "data": {
            "text/plain": [
              "10    218\n",
              "12    214\n",
              "1     103\n",
              "0      74\n",
              "7      71\n",
              "8      55\n",
              "4      52\n",
              "3      45\n",
              "5      45\n",
              "9      33\n",
              "6      31\n",
              "11     31\n",
              "2      22\n",
              "Name: label, dtype: int64"
            ]
          },
          "metadata": {},
          "execution_count": 5
        }
      ]
    },
    {
      "cell_type": "code",
      "source": [
        "len(specialty_counts)"
      ],
      "metadata": {
        "colab": {
          "base_uri": "https://localhost:8080/"
        },
        "id": "yT8G_xzZpbUk",
        "outputId": "a926106f-6b9d-4b6b-8ac5-195e493221d3"
      },
      "execution_count": 7,
      "outputs": [
        {
          "output_type": "execute_result",
          "data": {
            "text/plain": [
              "13"
            ]
          },
          "metadata": {},
          "execution_count": 7
        }
      ]
    },
    {
      "cell_type": "markdown",
      "source": [
        "# without preproccessing"
      ],
      "metadata": {
        "id": "TrXKwu0_TXHm"
      }
    },
    {
      "cell_type": "code",
      "source": [
        "from gensim.models import Word2Vec\n",
        "\n",
        "# Combine all the sentences from the 'article1' and 'summary1' columns\n",
        "train_sentences = X_train['text'].tolist()\n",
        "# Convert the sentences to lists of words\n",
        "train_sentences = [sentence.split() for sentence in train_sentences]\n",
        "\n",
        "# Create a Word2Vec model\n",
        "model = Word2Vec(train_sentences, vector_size=300, window=5, min_count=1, workers=4)\n",
        "\n",
        "# Train the model\n",
        "model.train(train_sentences, total_examples=model.corpus_count, epochs=30)\n",
        "\n",
        "# Save the model\n",
        "#model.save(\"word2vec.model\")"
      ],
      "metadata": {
        "id": "yYohCYSpF3E4",
        "colab": {
          "base_uri": "https://localhost:8080/"
        },
        "outputId": "7bec0f3c-30fd-4e5b-f850-1299cf7ebf97"
      },
      "execution_count": 8,
      "outputs": [
        {
          "output_type": "stream",
          "name": "stderr",
          "text": [
            "WARNING:gensim.models.word2vec:Effective 'alpha' higher than previous training cycles\n"
          ]
        },
        {
          "output_type": "execute_result",
          "data": {
            "text/plain": [
              "(34970382, 44241360)"
            ]
          },
          "metadata": {},
          "execution_count": 8
        }
      ]
    },
    {
      "cell_type": "code",
      "source": [
        "vocab_size = len(model.wv.key_to_index)\n",
        "\n",
        "print(len(model.wv.key_to_index))"
      ],
      "metadata": {
        "id": "c2oVpDrIF3Iw",
        "colab": {
          "base_uri": "https://localhost:8080/"
        },
        "outputId": "b7a5e55b-26da-4945-91cd-2aeeb4030597"
      },
      "execution_count": 9,
      "outputs": [
        {
          "output_type": "stream",
          "name": "stdout",
          "text": [
            "64594\n"
          ]
        }
      ]
    },
    {
      "cell_type": "code",
      "source": [
        "\n",
        "from tensorflow.keras.preprocessing.text import Tokenizer\n",
        "\n",
        "oov_tok='<oov>'\n",
        "oov_token=oov_tok\n",
        "tokenizer = Tokenizer(oov_token=oov_tok)#,num_words = vocab_size)\n",
        "#tokenizer = Tokenizer(num_words = vocab_size)\n",
        "\n",
        "tokenizer.fit_on_texts(X_train['text'])\n",
        "print(len(list(tokenizer.word_index.keys())))\n"
      ],
      "metadata": {
        "id": "NclCh5fjF3K6",
        "colab": {
          "base_uri": "https://localhost:8080/"
        },
        "outputId": "c7b21546-4ef9-4d65-f7a3-291cf6a32841"
      },
      "execution_count": 10,
      "outputs": [
        {
          "output_type": "stream",
          "name": "stdout",
          "text": [
            "21406\n"
          ]
        }
      ]
    },
    {
      "cell_type": "code",
      "source": [
        "X_train['text_indices'] = tokenizer.texts_to_sequences(X_train['text'])\n",
        "sequences = tokenizer.texts_to_sequences(X_train['text'])\n",
        "\n",
        "word_index = tokenizer.word_index\n"
      ],
      "metadata": {
        "id": "pcA_dVlvF3OP",
        "colab": {
          "base_uri": "https://localhost:8080/"
        },
        "outputId": "9ded7939-9159-4f8e-f44d-1ca707edcce5"
      },
      "execution_count": 11,
      "outputs": [
        {
          "output_type": "stream",
          "name": "stderr",
          "text": [
            "<ipython-input-11-bac10b2cb6b3>:1: SettingWithCopyWarning: \n",
            "A value is trying to be set on a copy of a slice from a DataFrame.\n",
            "Try using .loc[row_indexer,col_indexer] = value instead\n",
            "\n",
            "See the caveats in the documentation: https://pandas.pydata.org/pandas-docs/stable/user_guide/indexing.html#returning-a-view-versus-a-copy\n",
            "  X_train['text_indices'] = tokenizer.texts_to_sequences(X_train['text'])\n"
          ]
        }
      ]
    },
    {
      "cell_type": "code",
      "source": [
        "len(X_train['text'][0])"
      ],
      "metadata": {
        "colab": {
          "base_uri": "https://localhost:8080/"
        },
        "id": "BCPF44nGqOS2",
        "outputId": "d5cf9b91-a688-44db-d9c1-15b00e066204"
      },
      "execution_count": 12,
      "outputs": [
        {
          "output_type": "execute_result",
          "data": {
            "text/plain": [
              "1653"
            ]
          },
          "metadata": {},
          "execution_count": 12
        }
      ]
    },
    {
      "cell_type": "code",
      "source": [
        "len(sequences[0])"
      ],
      "metadata": {
        "colab": {
          "base_uri": "https://localhost:8080/"
        },
        "id": "jd-KtPqaqX3e",
        "outputId": "192ff336-4328-4dc8-92d4-35c33102edc3"
      },
      "execution_count": 13,
      "outputs": [
        {
          "output_type": "execute_result",
          "data": {
            "text/plain": [
              "278"
            ]
          },
          "metadata": {},
          "execution_count": 13
        }
      ]
    },
    {
      "cell_type": "code",
      "source": [
        "import matplotlib.pyplot as plt\n",
        "\n",
        "lengths = [len(text.split()) for text in X_train['text']]\n",
        "plt.figure(figsize=(10, 6))\n",
        "plt.hist(lengths, bins=50, edgecolor='black')\n",
        "plt.xlabel('Length')\n",
        "plt.ylabel('Count')\n",
        "plt.title('Distribution of Lengths in embedding_feature')\n",
        "plt.show()"
      ],
      "metadata": {
        "id": "kmsz1fKJF3Qp",
        "colab": {
          "base_uri": "https://localhost:8080/",
          "height": 564
        },
        "outputId": "d30108c7-8c1c-4a77-df5d-6f831a6a0fe7"
      },
      "execution_count": 14,
      "outputs": [
        {
          "output_type": "display_data",
          "data": {
            "text/plain": [
              "<Figure size 1000x600 with 1 Axes>"
            ],
            "image/png": "[encoded data removed]"
          },
          "metadata": {}
        }
      ]
    },
    {
      "cell_type": "code",
      "source": [
        "import numpy as np\n",
        "\n",
        "# Calculate the mean of lengths\n",
        "mean_length = np.mean(lengths)\n",
        "\n",
        "# Calculate the quartiles (25th, 50th, and 75th percentiles)\n",
        "quartiles = np.percentile(lengths, [25, 50, 75])\n",
        "\n",
        "print(\"Mean Length:\", mean_length)\n",
        "print(\"25th Percentile (1st Quartile):\", quartiles[0])\n",
        "print(\"50th Percentile (Median):\", quartiles[1])\n",
        "print(\"75th Percentile (3rd Quartile):\", quartiles[2])\n"
      ],
      "metadata": {
        "colab": {
          "base_uri": "https://localhost:8080/"
        },
        "id": "GdYkDWporlrM",
        "outputId": "20f2d7b5-d189-416e-f410-26afcc1da5c7"
      },
      "execution_count": 15,
      "outputs": [
        {
          "output_type": "stream",
          "name": "stdout",
          "text": [
            "Mean Length: 464.1838212149827\n",
            "25th Percentile (1st Quartile): 241.0\n",
            "50th Percentile (Median): 393.0\n",
            "75th Percentile (3rd Quartile): 614.0\n"
          ]
        }
      ]
    },
    {
      "cell_type": "code",
      "source": [
        "word_vectors = model.wv\n",
        "vocab_size = len(word_vectors.key_to_index)\n",
        "num_words=len(word_vectors.key_to_index)\n",
        "\n",
        "embedding_dim = model.vector_size\n",
        "print(embedding_dim)\n"
      ],
      "metadata": {
        "id": "TmTYEZVWUDNU",
        "colab": {
          "base_uri": "https://localhost:8080/"
        },
        "outputId": "03582322-93e9-45db-b6b5-2d0a63f5e539"
      },
      "execution_count": 16,
      "outputs": [
        {
          "output_type": "stream",
          "name": "stdout",
          "text": [
            "300\n"
          ]
        }
      ]
    },
    {
      "cell_type": "code",
      "source": [
        "import pandas as pd\n",
        "import tensorflow as tf\n",
        "from tensorflow.keras.preprocessing.text import Tokenizer\n",
        "from tensorflow.keras.preprocessing.sequence import pad_sequences\n",
        "#padding_type = 'post'  # Pad sequences at the end\n",
        "#truncating_type = 'post'  # Truncate sequences at the end\n",
        "#max_length = 200\n",
        "# Padding sequences\n",
        "#padded_sequences = pad_sequences(sequences, maxlen=max_length, padding=padding_type, truncating=truncating_type)\n"
      ],
      "metadata": {
        "id": "cICkhMe0UDLg"
      },
      "execution_count": 17,
      "outputs": []
    },
    {
      "cell_type": "code",
      "source": [
        "#X_test['text_indices'] = tokenizer.texts_to_sequences(X_test['text'])\n",
        "#test_sequences = tokenizer.texts_to_sequences(X_test['text'])\n",
        "#test_padded_sequences = pad_sequences(test_sequences, maxlen=max_length, padding=padding_type, truncating=truncating_type)\n"
      ],
      "metadata": {
        "id": "TfgGNRGTUDHI"
      },
      "execution_count": null,
      "outputs": []
    },
    {
      "cell_type": "markdown",
      "source": [
        "# main model"
      ],
      "metadata": {
        "id": "XwY4EEZqvhFh"
      }
    },
    {
      "cell_type": "code",
      "source": [
        "from keras.layers import Input, Embedding, LSTM, Dense, Bidirectional\n",
        "from keras.models import Model\n",
        "# encoder input model\n",
        "max_length = 512\n",
        "inputs = Input(shape=(max_length,))\n",
        "#encoder1 = Embedding(input_dim=num_words, output_dim=embedding_dim)(inputs)\n",
        "encoder1 = Embedding(input_dim=num_words, output_dim=embedding_dim, weights=[word_vectors.vectors], trainable=False)(inputs)\n",
        "encoder2 = LSTM(128, return_sequences=True)(encoder1)  # Add return_sequences=True\n",
        "# Bidirectional LSTM layer\n",
        "encoder2_bilstm = Bidirectional(LSTM(64))(encoder2)\n",
        "\n",
        "#outputs= Dense(5, activation='softmax')\n",
        "# Define output layers for each sentiment column\n",
        "output_layers = []\n",
        "x=13\n",
        "output_layer1 = Dense(32, activation='relu')(encoder2_bilstm)\n",
        "#output_layer2 = Dense(16, activation='relu')(output_layer1)\n",
        "output_layer = Dense(x, activation='softmax')(output_layer1)\n",
        "#output_layer = Dense(x, activation='softmax', name=col)(encoder2_bilstm) #label_encoder.classes_.shape[0]\n",
        "output_layers.append(output_layer)\n",
        "\n",
        "# Tie it together\n",
        "model = Model(inputs=inputs, outputs=output_layers)\n",
        "model.summary()"
      ],
      "metadata": {
        "id": "l7IB1tPHUDFY",
        "colab": {
          "base_uri": "https://localhost:8080/"
        },
        "outputId": "92888b4e-b99a-4b1b-dc10-341bdebb461b"
      },
      "execution_count": 18,
      "outputs": [
        {
          "output_type": "stream",
          "name": "stdout",
          "text": [
            "Model: \"model\"\n",
            "_________________________________________________________________\n",
            " Layer (type)                Output Shape              Param #   \n",
            "=================================================================\n",
            " input_1 (InputLayer)        [(None, 512)]             0         \n",
            "                                                                 \n",
            " embedding (Embedding)       (None, 512, 300)          19378200  \n",
            "                                                                 \n",
            " lstm (LSTM)                 (None, 512, 128)          219648    \n",
            "                                                                 \n",
            " bidirectional (Bidirection  (None, 128)               98816     \n",
            " al)                                                             \n",
            "                                                                 \n",
            " dense (Dense)               (None, 32)                4128      \n",
            "                                                                 \n",
            " dense_1 (Dense)             (None, 13)                429       \n",
            "                                                                 \n",
            "=================================================================\n",
            "Total params: 19701221 (75.15 MB)\n",
            "Trainable params: 323021 (1.23 MB)\n",
            "Non-trainable params: 19378200 (73.92 MB)\n",
            "_________________________________________________________________\n"
          ]
        }
      ]
    },
    {
      "cell_type": "code",
      "source": [],
      "metadata": {
        "id": "r62D1zp2_iQp"
      },
      "execution_count": 18,
      "outputs": []
    },
    {
      "cell_type": "code",
      "source": [
        "model.compile(optimizer='adam', loss='sparse_categorical_crossentropy', metrics=['accuracy'])"
      ],
      "metadata": {
        "id": "ui-nRWppUDCZ"
      },
      "execution_count": 19,
      "outputs": []
    },
    {
      "cell_type": "code",
      "source": [
        "from tensorflow.keras.preprocessing.text import Tokenizer\n",
        "from tensorflow.keras.preprocessing.sequence import pad_sequences\n",
        "# Convert your text data to sequences and pad them\n",
        "padding_type = 'post'  # Pad sequences at the end\n",
        "truncating_type = 'post'  # Truncate sequences at the end\n",
        "# Padding sequences\n",
        "# Assuming you have already defined a tokenizer\n",
        "input_column=\"text\"\n",
        "train_sequences = tokenizer.texts_to_sequences(X_train[input_column])\n",
        "train_padded_sequences = pad_sequences(train_sequences, maxlen=max_length, padding=padding_type, truncating=truncating_type)\n",
        "test_sequences = tokenizer.texts_to_sequences(X_test[input_column])\n",
        "test_padded_sequences = pad_sequences(test_sequences, maxlen=max_length, padding=padding_type, truncating=truncating_type)\n",
        "valid_sequences = tokenizer.texts_to_sequences(X_valid[input_column])\n",
        "valid_padded_sequences = pad_sequences(valid_sequences, maxlen=max_length, padding=padding_type, truncating=truncating_type)\n"
      ],
      "metadata": {
        "id": "OfKphBUEUDAU"
      },
      "execution_count": 20,
      "outputs": []
    },
    {
      "cell_type": "code",
      "source": [
        "# Train the model\n",
        "from keras.callbacks import EarlyStopping\n",
        "\n",
        "# Define the EarlyStopping callback\n",
        "early_stopping = EarlyStopping(monitor='val_loss', patience=5, restore_best_weights=True)\n",
        "\n",
        "# Train the model with the EarlyStopping callback\n",
        "history = model.fit(train_padded_sequences, y_train,\n",
        "                    epochs=100, batch_size=512, validation_data=(valid_padded_sequences, y_valid),#validation_split=0.20,\n",
        "                    callbacks=[early_stopping])\n",
        "\n",
        "# Evaluate the model\n",
        "results = model.evaluate(test_padded_sequences, y_test)\n",
        "\n"
      ],
      "metadata": {
        "id": "z3BnaY3FVHGv",
        "colab": {
          "base_uri": "https://localhost:8080/"
        },
        "outputId": "9d737b40-c730-4a1c-9415-81dcd865a124"
      },
      "execution_count": 21,
      "outputs": [
        {
          "output_type": "stream",
          "name": "stdout",
          "text": [
            "Epoch 1/100\n",
            "7/7 [==============================] - 14s 447ms/step - loss: 2.4258 - accuracy: 0.2320 - val_loss: 2.2451 - val_accuracy: 0.3119\n",
            "Epoch 2/100\n",
            "7/7 [==============================] - 2s 239ms/step - loss: 2.1729 - accuracy: 0.3176 - val_loss: 2.1004 - val_accuracy: 0.3157\n",
            "Epoch 3/100\n",
            "7/7 [==============================] - 2s 241ms/step - loss: 2.0369 - accuracy: 0.3349 - val_loss: 2.0047 - val_accuracy: 0.3522\n",
            "Epoch 4/100\n",
            "7/7 [==============================] - 2s 243ms/step - loss: 1.9393 - accuracy: 0.3598 - val_loss: 1.9453 - val_accuracy: 0.3736\n",
            "Epoch 5/100\n",
            "7/7 [==============================] - 2s 246ms/step - loss: 1.8666 - accuracy: 0.3783 - val_loss: 1.8991 - val_accuracy: 0.3673\n",
            "Epoch 6/100\n",
            "7/7 [==============================] - 2s 248ms/step - loss: 1.7939 - accuracy: 0.3941 - val_loss: 1.8654 - val_accuracy: 0.3547\n",
            "Epoch 7/100\n",
            "7/7 [==============================] - 2s 248ms/step - loss: 1.7222 - accuracy: 0.4001 - val_loss: 1.8307 - val_accuracy: 0.3484\n",
            "Epoch 8/100\n",
            "7/7 [==============================] - 2s 244ms/step - loss: 1.6569 - accuracy: 0.4133 - val_loss: 1.8219 - val_accuracy: 0.3673\n",
            "Epoch 9/100\n",
            "7/7 [==============================] - 2s 242ms/step - loss: 1.5873 - accuracy: 0.4205 - val_loss: 1.8015 - val_accuracy: 0.3597\n",
            "Epoch 10/100\n",
            "7/7 [==============================] - 2s 228ms/step - loss: 1.5148 - accuracy: 0.4422 - val_loss: 1.8377 - val_accuracy: 0.3535\n",
            "Epoch 11/100\n",
            "7/7 [==============================] - 2s 228ms/step - loss: 1.4592 - accuracy: 0.4511 - val_loss: 1.8282 - val_accuracy: 0.3472\n",
            "Epoch 12/100\n",
            "7/7 [==============================] - 2s 229ms/step - loss: 1.4127 - accuracy: 0.4592 - val_loss: 1.8345 - val_accuracy: 0.3308\n",
            "Epoch 13/100\n",
            "7/7 [==============================] - 2s 229ms/step - loss: 1.3491 - accuracy: 0.4835 - val_loss: 1.8523 - val_accuracy: 0.3182\n",
            "Epoch 14/100\n",
            "7/7 [==============================] - 2s 252ms/step - loss: 1.2963 - accuracy: 0.4935 - val_loss: 1.9281 - val_accuracy: 0.2981\n",
            "32/32 [==============================] - 1s 29ms/step - loss: 1.7891 - accuracy: 0.3531\n"
          ]
        }
      ]
    },
    {
      "cell_type": "code",
      "source": [
        "print(results)"
      ],
      "metadata": {
        "colab": {
          "base_uri": "https://localhost:8080/"
        },
        "id": "086JExD90Bu2",
        "outputId": "1f36f55f-6ef5-4927-bb06-7176c97408a5"
      },
      "execution_count": 22,
      "outputs": [
        {
          "output_type": "stream",
          "name": "stdout",
          "text": [
            "[1.7891067266464233, 0.3531187176704407]\n"
          ]
        }
      ]
    },
    {
      "cell_type": "code",
      "source": [
        "# Get predictions from the model\n",
        "test_probabilities = model.predict(test_padded_sequences)\n",
        "\n",
        "# Find the predicted class labels using argmax\n",
        "test_predictions = test_probabilities.argmax(axis=1)\n",
        "\n",
        "# Create a DataFrame with a single column for predictions\n",
        "test_predictions_df = pd.DataFrame({'predictions': test_predictions})\n",
        "\n",
        "# Save the DataFrame to a CSV file\n",
        "test_predictions_df.to_csv('/content/drive/MyDrive/bilstm_r.csv', index=False)\n"
      ],
      "metadata": {
        "colab": {
          "base_uri": "https://localhost:8080/"
        },
        "id": "qhyx__e2vk66",
        "outputId": "d98a39d6-9f28-48aa-d02e-5122c2097865"
      },
      "execution_count": 23,
      "outputs": [
        {
          "output_type": "stream",
          "name": "stdout",
          "text": [
            "32/32 [==============================] - 2s 27ms/step\n"
          ]
        }
      ]
    },
    {
      "cell_type": "markdown",
      "source": [
        "# new model"
      ],
      "metadata": {
        "id": "v7SuPfx6vnak"
      }
    },
    {
      "cell_type": "code",
      "source": [
        "from keras.layers import Input, Embedding, LSTM, Dense, Bidirectional, Conv1D, GlobalMaxPooling1D, Dropout, BatchNormalization\n",
        "from keras.models import Model\n",
        "from keras.regularizers import l2\n",
        "from keras.optimizers import Adam\n",
        "from keras.callbacks import EarlyStopping, LearningRateScheduler\n",
        "import numpy as np\n",
        "\n",
        "# Define input shape and embedding layer as you did before\n",
        "max_length = 512\n",
        "\n",
        "inputs = Input(shape=(max_length,))\n",
        "embedding_layer = Embedding(input_dim=num_words, output_dim=embedding_dim, weights=[word_vectors.vectors], trainable=False)(inputs)\n",
        "\n",
        "# Apply LSTM layer with L2 regularization\n",
        "lstm_layer = LSTM(512, return_sequences=True, kernel_regularizer=l2(0.01))(embedding_layer)\n",
        "\n",
        "# Convolutional layer with batch normalization\n",
        "conv1d_layer = Conv1D(filters=128, kernel_size=3, activation='relu')(lstm_layer)\n",
        "conv1d_layer = BatchNormalization()(conv1d_layer)\n",
        "\n",
        "# Global max pooling layer\n",
        "global_max_pooling = GlobalMaxPooling1D()(conv1d_layer)\n",
        "\n",
        "# Apply dropout after global max pooling\n",
        "dropout_rate = 0.5\n",
        "dropout_layer = Dropout(dropout_rate)(global_max_pooling)\n",
        "\n",
        "# Bidirectional LSTM layer\n",
        "bilstm_layer = Bidirectional(LSTM(256))(lstm_layer)\n",
        "\n",
        "# Define output layers for each sentiment column\n",
        "output_layers = []\n",
        "num_classes = 13  # Replace with the actual number of classes\n",
        "\n",
        "output_layer1 = Dense(128, activation='relu', kernel_regularizer=l2(0.01))(dropout_layer)\n",
        "output_layer2 = Dense(64, activation='relu', kernel_regularizer=l2(0.01))(output_layer1)\n",
        "output_layer = Dense(num_classes, activation='softmax')(output_layer2)\n",
        "output_layers.append(output_layer)\n",
        "\n",
        "# Create the model\n",
        "model = Model(inputs=inputs, outputs=output_layers)\n",
        "\n",
        "\n",
        "# Print the model summary\n",
        "model.summary()\n"
      ],
      "metadata": {
        "colab": {
          "base_uri": "https://localhost:8080/"
        },
        "id": "9YU5ZPJk_20b",
        "outputId": "374a6d81-0e48-48e6-cf89-1611bc67e3e9"
      },
      "execution_count": 25,
      "outputs": [
        {
          "output_type": "stream",
          "name": "stdout",
          "text": [
            "Model: \"model_4\"\n",
            "_________________________________________________________________\n",
            " Layer (type)                Output Shape              Param #   \n",
            "=================================================================\n",
            " input_5 (InputLayer)        [(None, 512)]             0         \n",
            "                                                                 \n",
            " embedding_4 (Embedding)     (None, 512, 300)          19378200  \n",
            "                                                                 \n",
            " lstm_8 (LSTM)               (None, 512, 512)          1665024   \n",
            "                                                                 \n",
            " conv1d_2 (Conv1D)           (None, 510, 128)          196736    \n",
            "                                                                 \n",
            " batch_normalization_2 (Bat  (None, 510, 128)          512       \n",
            " chNormalization)                                                \n",
            "                                                                 \n",
            " global_max_pooling1d_2 (Gl  (None, 128)               0         \n",
            " obalMaxPooling1D)                                               \n",
            "                                                                 \n",
            " dropout_2 (Dropout)         (None, 128)               0         \n",
            "                                                                 \n",
            " dense_10 (Dense)            (None, 128)               16512     \n",
            "                                                                 \n",
            " dense_11 (Dense)            (None, 64)                8256      \n",
            "                                                                 \n",
            " dense_12 (Dense)            (None, 13)                845       \n",
            "                                                                 \n",
            "=================================================================\n",
            "Total params: 21266085 (81.12 MB)\n",
            "Trainable params: 1887629 (7.20 MB)\n",
            "Non-trainable params: 19378456 (73.92 MB)\n",
            "_________________________________________________________________\n"
          ]
        }
      ]
    },
    {
      "cell_type": "code",
      "source": [
        "model.compile(optimizer='adam', loss='sparse_categorical_crossentropy', metrics=['accuracy'])"
      ],
      "metadata": {
        "id": "cwmZ5GPS_2xe"
      },
      "execution_count": 26,
      "outputs": []
    },
    {
      "cell_type": "code",
      "source": [
        "# Train the model\n",
        "from keras.callbacks import EarlyStopping\n",
        "\n",
        "# Define the EarlyStopping callback\n",
        "early_stopping = EarlyStopping(monitor='val_accuracy', patience=7, restore_best_weights=True)\n",
        "\n",
        "# Train the model with the EarlyStopping callback\n",
        "history = model.fit(train_padded_sequences, y_train,\n",
        "                    epochs=100, batch_size=512, validation_data=(valid_padded_sequences, y_valid),#validation_split=0.20,\n",
        "                    callbacks=[early_stopping])\n",
        "\n",
        "# Evaluate the model\n",
        "results = model.evaluate(test_padded_sequences, y_test)\n",
        "\n"
      ],
      "metadata": {
        "colab": {
          "base_uri": "https://localhost:8080/"
        },
        "id": "45jeirNG_2vi",
        "outputId": "136cd39e-c807-4d77-c1a2-b25f5222a3f2"
      },
      "execution_count": 27,
      "outputs": [
        {
          "output_type": "stream",
          "name": "stdout",
          "text": [
            "Epoch 1/100\n",
            "7/7 [==============================] - 16s 1s/step - loss: 11.7465 - accuracy: 0.1416 - val_loss: 9.8423 - val_accuracy: 0.0742\n",
            "Epoch 2/100\n",
            "7/7 [==============================] - 8s 1s/step - loss: 9.4716 - accuracy: 0.1970 - val_loss: 9.1139 - val_accuracy: 0.2164\n",
            "Epoch 3/100\n",
            "7/7 [==============================] - 8s 1s/step - loss: 8.8301 - accuracy: 0.2304 - val_loss: 8.5122 - val_accuracy: 0.2164\n",
            "Epoch 4/100\n",
            "7/7 [==============================] - 8s 1s/step - loss: 8.2649 - accuracy: 0.2751 - val_loss: 7.9229 - val_accuracy: 0.2164\n",
            "Epoch 5/100\n",
            "7/7 [==============================] - 8s 1s/step - loss: 7.6890 - accuracy: 0.2663 - val_loss: 7.3899 - val_accuracy: 0.2704\n",
            "Epoch 6/100\n",
            "7/7 [==============================] - 8s 1s/step - loss: 7.1822 - accuracy: 0.2606 - val_loss: 6.9121 - val_accuracy: 0.2340\n",
            "Epoch 7/100\n",
            "7/7 [==============================] - 8s 1s/step - loss: 6.6720 - accuracy: 0.2896 - val_loss: 6.4794 - val_accuracy: 0.2352\n",
            "Epoch 8/100\n",
            "7/7 [==============================] - 8s 1s/step - loss: 6.2399 - accuracy: 0.3078 - val_loss: 6.1035 - val_accuracy: 0.2340\n",
            "Epoch 9/100\n",
            "7/7 [==============================] - 8s 1s/step - loss: 5.8583 - accuracy: 0.3034 - val_loss: 5.7211 - val_accuracy: 0.2327\n",
            "Epoch 10/100\n",
            "7/7 [==============================] - 8s 1s/step - loss: 5.5449 - accuracy: 0.3072 - val_loss: 5.5467 - val_accuracy: 0.2252\n",
            "Epoch 11/100\n",
            "7/7 [==============================] - 8s 1s/step - loss: 5.2519 - accuracy: 0.3072 - val_loss: 5.1896 - val_accuracy: 0.2730\n",
            "Epoch 12/100\n",
            "7/7 [==============================] - 8s 1s/step - loss: 4.9852 - accuracy: 0.3113 - val_loss: 4.9714 - val_accuracy: 0.2528\n",
            "Epoch 13/100\n",
            "7/7 [==============================] - 8s 1s/step - loss: 4.7548 - accuracy: 0.3289 - val_loss: 4.6980 - val_accuracy: 0.3283\n",
            "Epoch 14/100\n",
            "7/7 [==============================] - 8s 1s/step - loss: 4.6278 - accuracy: 0.3207 - val_loss: 4.6055 - val_accuracy: 0.3258\n",
            "Epoch 15/100\n",
            "7/7 [==============================] - 8s 1s/step - loss: 4.4341 - accuracy: 0.3229 - val_loss: 4.4807 - val_accuracy: 0.2390\n",
            "Epoch 16/100\n",
            "7/7 [==============================] - 8s 1s/step - loss: 4.2877 - accuracy: 0.3163 - val_loss: 4.3470 - val_accuracy: 0.2440\n",
            "Epoch 17/100\n",
            "7/7 [==============================] - 8s 1s/step - loss: 4.1175 - accuracy: 0.3365 - val_loss: 4.2374 - val_accuracy: 0.2428\n",
            "Epoch 18/100\n",
            "7/7 [==============================] - 8s 1s/step - loss: 3.9800 - accuracy: 0.3223 - val_loss: 4.1193 - val_accuracy: 0.2591\n",
            "Epoch 19/100\n",
            "7/7 [==============================] - 8s 1s/step - loss: 3.8542 - accuracy: 0.3308 - val_loss: 3.9877 - val_accuracy: 0.2969\n",
            "Epoch 20/100\n",
            "7/7 [==============================] - 8s 1s/step - loss: 3.7410 - accuracy: 0.3082 - val_loss: 3.8965 - val_accuracy: 0.2994\n",
            "32/32 [==============================] - 1s 37ms/step - loss: 4.6908 - accuracy: 0.3310\n"
          ]
        }
      ]
    },
    {
      "cell_type": "code",
      "source": [
        "print(results)"
      ],
      "metadata": {
        "colab": {
          "base_uri": "https://localhost:8080/"
        },
        "id": "RPZKAXMv_2rq",
        "outputId": "95833abd-dede-46a5-de21-b373e4863cdd"
      },
      "execution_count": 28,
      "outputs": [
        {
          "output_type": "stream",
          "name": "stdout",
          "text": [
            "[4.69083309173584, 0.3309859037399292]\n"
          ]
        }
      ]
    },
    {
      "cell_type": "code",
      "source": [],
      "metadata": {
        "id": "YNmAeYw2_2qX"
      },
      "execution_count": null,
      "outputs": []
    },
    {
      "cell_type": "markdown",
      "source": [
        "# with preprocessing"
      ],
      "metadata": {
        "id": "pdchqlEbVvp4"
      }
    },
    {
      "cell_type": "code",
      "source": [
        "from gensim.models import Word2Vec\n",
        "\n",
        "# Combine all the sentences from the 'article1' and 'summary1' columns\n",
        "train_sentences = X_train['ptext'].tolist()\n",
        "# Convert the sentences to lists of words\n",
        "train_sentences = [sentence.split() for sentence in train_sentences]\n",
        "\n",
        "# Create a Word2Vec model\n",
        "model = Word2Vec(train_sentences, vector_size=300, window=5, min_count=1, workers=4)\n",
        "\n",
        "# Train the model\n",
        "model.train(train_sentences, total_examples=model.corpus_count, epochs=30)\n",
        "\n",
        "# Save the model\n",
        "#model.save(\"word2vec.model\")"
      ],
      "metadata": {
        "id": "wdqDeLOVVxAQ",
        "colab": {
          "base_uri": "https://localhost:8080/"
        },
        "outputId": "55c98c16-4d28-4db1-c6b1-6ce16b318bb0"
      },
      "execution_count": null,
      "outputs": [
        {
          "output_type": "stream",
          "name": "stderr",
          "text": [
            "WARNING:gensim.models.word2vec:Effective 'alpha' higher than previous training cycles\n"
          ]
        },
        {
          "output_type": "execute_result",
          "data": {
            "text/plain": [
              "(26879771, 28152660)"
            ]
          },
          "metadata": {},
          "execution_count": 126
        }
      ]
    },
    {
      "cell_type": "code",
      "source": [
        "vocab_size = len(model.wv.key_to_index)\n",
        "\n",
        "print(len(model.wv.key_to_index))"
      ],
      "metadata": {
        "id": "H4eMotx6ZTLm",
        "colab": {
          "base_uri": "https://localhost:8080/"
        },
        "outputId": "b14ea72d-ccee-440e-d796-4b335b0bc3ba"
      },
      "execution_count": null,
      "outputs": [
        {
          "output_type": "stream",
          "name": "stdout",
          "text": [
            "19276\n"
          ]
        }
      ]
    },
    {
      "cell_type": "code",
      "source": [
        "from tensorflow.keras.preprocessing.text import Tokenizer\n",
        "\n",
        "oov_tok='<oov>'\n",
        "oov_token=oov_tok\n",
        "tokenizer = Tokenizer(oov_token=oov_tok)#,num_words = vocab_size)\n",
        "#tokenizer = Tokenizer(num_words = vocab_size)\n",
        "\n",
        "tokenizer.fit_on_texts(X_train['ptext'])\n",
        "print(len(list(tokenizer.word_index.keys())))\n"
      ],
      "metadata": {
        "id": "WX4OqhllZTJO",
        "colab": {
          "base_uri": "https://localhost:8080/"
        },
        "outputId": "a90ccaa5-6b7e-4f63-96c3-fd2b50a29c56"
      },
      "execution_count": null,
      "outputs": [
        {
          "output_type": "stream",
          "name": "stdout",
          "text": [
            "19277\n"
          ]
        }
      ]
    },
    {
      "cell_type": "code",
      "source": [
        "X_train['ptext_indices'] = tokenizer.texts_to_sequences(X_train['ptext'])\n",
        "sequences = tokenizer.texts_to_sequences(X_train['ptext'])\n",
        "\n",
        "word_index = tokenizer.word_index\n"
      ],
      "metadata": {
        "id": "YJxDA7NvZTFp",
        "colab": {
          "base_uri": "https://localhost:8080/"
        },
        "outputId": "5f6a28f0-a5bd-47c0-c5cc-2d61d648c034"
      },
      "execution_count": null,
      "outputs": [
        {
          "output_type": "stream",
          "name": "stderr",
          "text": [
            "<ipython-input-129-514c3f2e3239>:1: SettingWithCopyWarning: \n",
            "A value is trying to be set on a copy of a slice from a DataFrame.\n",
            "Try using .loc[row_indexer,col_indexer] = value instead\n",
            "\n",
            "See the caveats in the documentation: https://pandas.pydata.org/pandas-docs/stable/user_guide/indexing.html#returning-a-view-versus-a-copy\n",
            "  X_train['ptext_indices'] = tokenizer.texts_to_sequences(X_train['ptext'])\n"
          ]
        }
      ]
    },
    {
      "cell_type": "code",
      "source": [
        "word_vectors = model.wv\n",
        "vocab_size = len(word_vectors.key_to_index)\n",
        "num_words=len(word_vectors.key_to_index)\n",
        "\n",
        "embedding_dim = model.vector_size\n",
        "print(embedding_dim)\n"
      ],
      "metadata": {
        "id": "6IKuhJDcZTEH",
        "colab": {
          "base_uri": "https://localhost:8080/"
        },
        "outputId": "7166d256-67b6-4b48-aedc-cf1190aaf53e"
      },
      "execution_count": null,
      "outputs": [
        {
          "output_type": "stream",
          "name": "stdout",
          "text": [
            "300\n"
          ]
        }
      ]
    },
    {
      "cell_type": "code",
      "source": [
        "from keras.layers import Input, Embedding, LSTM, Dense, Bidirectional, Conv1D, GlobalMaxPooling1D, Dropout\n",
        "from keras.models import Model\n",
        "\n",
        "# Define input shape and embedding layer as you did before\n",
        "max_length = 512\n",
        "inputs = Input(shape=(max_length,))\n",
        "\n",
        "# encoder1 = Embedding(input_dim=num_words, output_dim=embedding_dim)(inputs)\n",
        "encoder1 = Embedding(input_dim=num_words, output_dim=embedding_dim, weights=[word_vectors.vectors], trainable=False)(inputs)\n",
        "encoder2 = LSTM(512, return_sequences=True)(encoder1)  # Add return_sequences=True\n",
        "\n",
        "# Convolutional layer\n",
        "conv1d_layer = Conv1D(filters=128, kernel_size=3, activation='relu')(encoder2)\n",
        "\n",
        "# Global max pooling layer\n",
        "global_max_pooling = GlobalMaxPooling1D()(conv1d_layer)\n",
        "\n",
        "# Apply dropout after the convolutional and LSTM layers\n",
        "dropout_rate = 0.5\n",
        "dropout_layer = Dropout(dropout_rate)(global_max_pooling)\n",
        "\n",
        "# Bidirectional LSTM layer\n",
        "encoder2_bilstm = Bidirectional(LSTM(256))(encoder2)\n",
        "\n",
        "# Define output layers for each sentiment column as you did before\n",
        "output_layers = []\n",
        "x = 13\n",
        "\n",
        "output_layer1 = Dense(128, activation='relu')(dropout_layer)\n",
        "output_layer2 = Dense(64, activation='relu')(output_layer1)\n",
        "output_layer = Dense(x, activation='softmax')(output_layer2)\n",
        "output_layers.append(output_layer)\n",
        "\n",
        "# Tie it all together\n",
        "model = Model(inputs=inputs, outputs=output_layers)\n",
        "model.summary()\n"
      ],
      "metadata": {
        "id": "kmAlV5pmZTAi",
        "colab": {
          "base_uri": "https://localhost:8080/"
        },
        "outputId": "7996c9eb-8166-4fb3-ecd3-78a0c6bed472"
      },
      "execution_count": null,
      "outputs": [
        {
          "output_type": "stream",
          "name": "stdout",
          "text": [
            "Model: \"model_25\"\n",
            "_________________________________________________________________\n",
            " Layer (type)                Output Shape              Param #   \n",
            "=================================================================\n",
            " input_26 (InputLayer)       [(None, 512)]             0         \n",
            "                                                                 \n",
            " embedding_24 (Embedding)    (None, 512, 300)          5782800   \n",
            "                                                                 \n",
            " lstm_33 (LSTM)              (None, 512, 512)          1665024   \n",
            "                                                                 \n",
            " conv1d_6 (Conv1D)           (None, 510, 128)          196736    \n",
            "                                                                 \n",
            " global_max_pooling1d_3 (Gl  (None, 128)               0         \n",
            " obalMaxPooling1D)                                               \n",
            "                                                                 \n",
            " dropout_10 (Dropout)        (None, 128)               0         \n",
            "                                                                 \n",
            " dense_67 (Dense)            (None, 128)               16512     \n",
            "                                                                 \n",
            " dense_68 (Dense)            (None, 64)                8256      \n",
            "                                                                 \n",
            " dense_69 (Dense)            (None, 13)                845       \n",
            "                                                                 \n",
            "=================================================================\n",
            "Total params: 7670173 (29.26 MB)\n",
            "Trainable params: 1887373 (7.20 MB)\n",
            "Non-trainable params: 5782800 (22.06 MB)\n",
            "_________________________________________________________________\n"
          ]
        }
      ]
    },
    {
      "cell_type": "code",
      "source": [
        "model.compile(optimizer='adam', loss='sparse_categorical_crossentropy', metrics=['accuracy'])"
      ],
      "metadata": {
        "id": "rl1qKY-CZS_F"
      },
      "execution_count": null,
      "outputs": []
    },
    {
      "cell_type": "code",
      "source": [
        "from keras.layers import Input, Embedding, LSTM, Dense, Bidirectional, Conv1D, GlobalMaxPooling1D, Dropout, BatchNormalization\n",
        "from keras.models import Model\n",
        "from keras.regularizers import l2\n",
        "from keras.optimizers import Adam\n",
        "from keras.callbacks import EarlyStopping, LearningRateScheduler\n",
        "import numpy as np\n",
        "\n",
        "# Define input shape and embedding layer as you did before\n",
        "max_length = 512\n",
        "\n",
        "inputs = Input(shape=(max_length,))\n",
        "embedding_layer = Embedding(input_dim=num_words, output_dim=embedding_dim, weights=[word_vectors.vectors], trainable=False)(inputs)\n",
        "\n",
        "# Apply LSTM layer with L2 regularization\n",
        "lstm_layer = LSTM(512, return_sequences=True, kernel_regularizer=l2(0.01))(embedding_layer)\n",
        "\n",
        "# Convolutional layer with batch normalization\n",
        "conv1d_layer = Conv1D(filters=128, kernel_size=3, activation='relu')(lstm_layer)\n",
        "conv1d_layer = BatchNormalization()(conv1d_layer)\n",
        "\n",
        "# Global max pooling layer\n",
        "global_max_pooling = GlobalMaxPooling1D()(conv1d_layer)\n",
        "\n",
        "# Apply dropout after global max pooling\n",
        "dropout_rate = 0.5\n",
        "dropout_layer = Dropout(dropout_rate)(global_max_pooling)\n",
        "\n",
        "# Bidirectional LSTM layer\n",
        "bilstm_layer = Bidirectional(LSTM(256))(lstm_layer)\n",
        "\n",
        "# Define output layers for each sentiment column\n",
        "output_layers = []\n",
        "num_classes = 13  # Replace with the actual number of classes\n",
        "\n",
        "output_layer1 = Dense(128, activation='relu', kernel_regularizer=l2(0.01))(dropout_layer)\n",
        "output_layer2 = Dense(64, activation='relu', kernel_regularizer=l2(0.01))(output_layer1)\n",
        "output_layer = Dense(num_classes, activation='softmax')(output_layer2)\n",
        "output_layers.append(output_layer)\n",
        "\n",
        "# Create the model\n",
        "model = Model(inputs=inputs, outputs=output_layers)\n",
        "\n",
        "\n",
        "# Print the model summary\n",
        "model.summary()\n"
      ],
      "metadata": {
        "colab": {
          "base_uri": "https://localhost:8080/"
        },
        "id": "Y7src_m22Le1",
        "outputId": "b7a078ba-4090-4aba-dbec-229944cc3d2a"
      },
      "execution_count": null,
      "outputs": [
        {
          "output_type": "stream",
          "name": "stdout",
          "text": [
            "Model: \"model_26\"\n",
            "_________________________________________________________________\n",
            " Layer (type)                Output Shape              Param #   \n",
            "=================================================================\n",
            " input_29 (InputLayer)       [(None, 512)]             0         \n",
            "                                                                 \n",
            " embedding_27 (Embedding)    (None, 512, 300)          5782800   \n",
            "                                                                 \n",
            " lstm_35 (LSTM)              (None, 512, 512)          1665024   \n",
            "                                                                 \n",
            " conv1d_7 (Conv1D)           (None, 510, 128)          196736    \n",
            "                                                                 \n",
            " batch_normalization (Batch  (None, 510, 128)          512       \n",
            " Normalization)                                                  \n",
            "                                                                 \n",
            " global_max_pooling1d_4 (Gl  (None, 128)               0         \n",
            " obalMaxPooling1D)                                               \n",
            "                                                                 \n",
            " dropout_11 (Dropout)        (None, 128)               0         \n",
            "                                                                 \n",
            " dense_70 (Dense)            (None, 128)               16512     \n",
            "                                                                 \n",
            " dense_71 (Dense)            (None, 64)                8256      \n",
            "                                                                 \n",
            " dense_72 (Dense)            (None, 13)                845       \n",
            "                                                                 \n",
            "=================================================================\n",
            "Total params: 7670685 (29.26 MB)\n",
            "Trainable params: 1887629 (7.20 MB)\n",
            "Non-trainable params: 5783056 (22.06 MB)\n",
            "_________________________________________________________________\n"
          ]
        }
      ]
    },
    {
      "cell_type": "code",
      "source": [
        "from tensorflow.keras.preprocessing.text import Tokenizer\n",
        "from tensorflow.keras.preprocessing.sequence import pad_sequences\n",
        "# Convert your text data to sequences and pad them\n",
        "padding_type = 'post'  # Pad sequences at the end\n",
        "truncating_type = 'post'  # Truncate sequences at the end\n",
        "# Padding sequences\n",
        "# Assuming you have already defined a tokenizer\n",
        "input_column=\"ptext\"\n",
        "train_sequences = tokenizer.texts_to_sequences(X_train[input_column])\n",
        "train_padded_sequences = pad_sequences(train_sequences, maxlen=max_length, padding=padding_type, truncating=truncating_type)\n",
        "test_sequences = tokenizer.texts_to_sequences(X_test[input_column])\n",
        "test_padded_sequences = pad_sequences(test_sequences, maxlen=max_length, padding=padding_type, truncating=truncating_type)\n",
        "valid_sequences = tokenizer.texts_to_sequences(X_valid[input_column])\n",
        "valid_padded_sequences = pad_sequences(valid_sequences, maxlen=max_length, padding=padding_type, truncating=truncating_type)\n"
      ],
      "metadata": {
        "id": "21qq8X1IZS7f"
      },
      "execution_count": null,
      "outputs": []
    },
    {
      "cell_type": "code",
      "source": [
        "from keras.optimizers import Adam\n",
        "from keras.callbacks import LearningRateScheduler\n",
        "\n",
        "# Define a learning rate schedule\n",
        "def lr_schedule(epoch):\n",
        "    initial_lr = 0.001\n",
        "    if epoch < 10:\n",
        "        return initial_lr\n",
        "    else:\n",
        "        return initial_lr * 0.1\n",
        "\n",
        "# Create a learning rate scheduler\n",
        "lr_scheduler = LearningRateScheduler(lr_schedule)\n",
        "\n",
        "# Compile the model with the Adam optimizer and the scheduler\n",
        "optimizer = Adam(learning_rate=0.001)  # You can adjust the initial learning rate\n",
        "model.compile(loss='sparse_categorical_crossentropy', optimizer=optimizer, metrics=['accuracy'])\n"
      ],
      "metadata": {
        "id": "pXEPsHG04O6B"
      },
      "execution_count": null,
      "outputs": []
    },
    {
      "cell_type": "code",
      "source": [
        "# Train the model\n",
        "from keras.callbacks import EarlyStopping\n",
        "\n",
        "# Define the EarlyStopping callback\n",
        "early_stopping = EarlyStopping(monitor='val_loss', patience=5, restore_best_weights=True)\n",
        "\n",
        "# Train the model with the EarlyStopping callback\n",
        "history = model.fit(train_padded_sequences, y_train,\n",
        "                    epochs=50, batch_size=512, validation_data=(valid_padded_sequences, y_valid),#validation_split=0.20,\n",
        "                    callbacks=[early_stopping])\n",
        "\n",
        "# Evaluate the model\n",
        "results = model.evaluate(test_padded_sequences, y_test)\n",
        "\n"
      ],
      "metadata": {
        "id": "1DdidV6kZS6N",
        "colab": {
          "base_uri": "https://localhost:8080/"
        },
        "outputId": "1aaafe15-49ad-4cb4-a1f2-9db676629808"
      },
      "execution_count": null,
      "outputs": [
        {
          "output_type": "stream",
          "name": "stdout",
          "text": [
            "Epoch 1/50\n",
            "7/7 [==============================] - 54s 8s/step - loss: 10.8113 - accuracy: 0.1564 - val_loss: 9.3801 - val_accuracy: 0.0969\n",
            "Epoch 2/50\n",
            "7/7 [==============================] - 8s 1s/step - loss: 9.1915 - accuracy: 0.2169 - val_loss: 8.7202 - val_accuracy: 0.1572\n",
            "Epoch 3/50\n",
            "7/7 [==============================] - 8s 1s/step - loss: 8.3875 - accuracy: 0.2496 - val_loss: 7.9997 - val_accuracy: 0.2767\n",
            "Epoch 4/50\n",
            "7/7 [==============================] - 8s 1s/step - loss: 7.6880 - accuracy: 0.2745 - val_loss: 7.3351 - val_accuracy: 0.2956\n",
            "Epoch 5/50\n",
            "7/7 [==============================] - 8s 1s/step - loss: 7.0249 - accuracy: 0.2776 - val_loss: 6.7007 - val_accuracy: 0.3396\n",
            "Epoch 6/50\n",
            "7/7 [==============================] - 8s 1s/step - loss: 6.4181 - accuracy: 0.3044 - val_loss: 6.0747 - val_accuracy: 0.3220\n",
            "Epoch 7/50\n",
            "7/7 [==============================] - 8s 1s/step - loss: 5.9513 - accuracy: 0.2940 - val_loss: 5.6697 - val_accuracy: 0.3145\n",
            "Epoch 8/50\n",
            "7/7 [==============================] - 8s 1s/step - loss: 5.5324 - accuracy: 0.3094 - val_loss: 5.6916 - val_accuracy: 0.2050\n",
            "Epoch 9/50\n",
            "7/7 [==============================] - 7s 1s/step - loss: 5.2173 - accuracy: 0.3100 - val_loss: 5.2926 - val_accuracy: 0.2302\n",
            "Epoch 10/50\n",
            "7/7 [==============================] - 8s 1s/step - loss: 4.9225 - accuracy: 0.3063 - val_loss: 4.8810 - val_accuracy: 0.2843\n",
            "Epoch 11/50\n",
            "7/7 [==============================] - 7s 1s/step - loss: 4.7096 - accuracy: 0.3053 - val_loss: 4.6974 - val_accuracy: 0.2478\n",
            "Epoch 12/50\n",
            "7/7 [==============================] - 8s 1s/step - loss: 4.4521 - accuracy: 0.3097 - val_loss: 4.4602 - val_accuracy: 0.2805\n",
            "Epoch 13/50\n",
            "7/7 [==============================] - 8s 1s/step - loss: 4.2837 - accuracy: 0.3094 - val_loss: 4.3858 - val_accuracy: 0.2201\n",
            "Epoch 14/50\n",
            "7/7 [==============================] - 8s 1s/step - loss: 4.1123 - accuracy: 0.3160 - val_loss: 4.1992 - val_accuracy: 0.2403\n",
            "Epoch 15/50\n",
            "7/7 [==============================] - 8s 1s/step - loss: 3.9502 - accuracy: 0.3396 - val_loss: 4.0873 - val_accuracy: 0.2491\n",
            "Epoch 16/50\n",
            "7/7 [==============================] - 8s 1s/step - loss: 3.8077 - accuracy: 0.3377 - val_loss: 4.0054 - val_accuracy: 0.2277\n",
            "Epoch 17/50\n",
            "7/7 [==============================] - 8s 1s/step - loss: 3.6855 - accuracy: 0.3292 - val_loss: 3.8619 - val_accuracy: 0.3283\n",
            "Epoch 18/50\n",
            "7/7 [==============================] - 8s 1s/step - loss: 3.5705 - accuracy: 0.3551 - val_loss: 3.8455 - val_accuracy: 0.2390\n",
            "Epoch 19/50\n",
            "7/7 [==============================] - 8s 1s/step - loss: 3.4394 - accuracy: 0.3444 - val_loss: 3.6764 - val_accuracy: 0.2943\n",
            "Epoch 20/50\n",
            "7/7 [==============================] - 8s 1s/step - loss: 3.3240 - accuracy: 0.3632 - val_loss: 3.6557 - val_accuracy: 0.2654\n",
            "Epoch 21/50\n",
            "7/7 [==============================] - 8s 1s/step - loss: 3.2188 - accuracy: 0.3692 - val_loss: 3.5280 - val_accuracy: 0.2654\n",
            "Epoch 22/50\n",
            "7/7 [==============================] - 8s 1s/step - loss: 3.1332 - accuracy: 0.3676 - val_loss: 3.4254 - val_accuracy: 0.2679\n",
            "Epoch 23/50\n",
            "7/7 [==============================] - 8s 1s/step - loss: 3.0574 - accuracy: 0.3636 - val_loss: 3.4588 - val_accuracy: 0.2403\n",
            "Epoch 24/50\n",
            "7/7 [==============================] - 8s 1s/step - loss: 2.9831 - accuracy: 0.3667 - val_loss: 3.4439 - val_accuracy: 0.2340\n",
            "Epoch 25/50\n",
            "7/7 [==============================] - 8s 1s/step - loss: 2.8842 - accuracy: 0.3683 - val_loss: 3.3354 - val_accuracy: 0.2478\n",
            "Epoch 26/50\n",
            "7/7 [==============================] - 8s 1s/step - loss: 2.8247 - accuracy: 0.3787 - val_loss: 3.2834 - val_accuracy: 0.2478\n",
            "Epoch 27/50\n",
            "7/7 [==============================] - 8s 1s/step - loss: 2.7637 - accuracy: 0.3752 - val_loss: 3.2068 - val_accuracy: 0.3094\n",
            "Epoch 28/50\n",
            "7/7 [==============================] - 8s 1s/step - loss: 2.7165 - accuracy: 0.3796 - val_loss: 3.1229 - val_accuracy: 0.2704\n",
            "Epoch 29/50\n",
            "7/7 [==============================] - 8s 1s/step - loss: 2.6898 - accuracy: 0.3654 - val_loss: 3.1198 - val_accuracy: 0.2780\n",
            "Epoch 30/50\n",
            "7/7 [==============================] - 8s 1s/step - loss: 2.5834 - accuracy: 0.4001 - val_loss: 3.1895 - val_accuracy: 0.2415\n",
            "Epoch 31/50\n",
            "7/7 [==============================] - 8s 1s/step - loss: 2.5876 - accuracy: 0.3878 - val_loss: 3.0230 - val_accuracy: 0.2843\n",
            "Epoch 32/50\n",
            "7/7 [==============================] - 8s 1s/step - loss: 2.5280 - accuracy: 0.3897 - val_loss: 2.9623 - val_accuracy: 0.3044\n",
            "Epoch 33/50\n",
            "7/7 [==============================] - 8s 1s/step - loss: 2.4556 - accuracy: 0.3938 - val_loss: 3.0099 - val_accuracy: 0.2692\n",
            "Epoch 34/50\n",
            "7/7 [==============================] - 8s 1s/step - loss: 2.4193 - accuracy: 0.4142 - val_loss: 2.8794 - val_accuracy: 0.3132\n",
            "Epoch 35/50\n",
            "7/7 [==============================] - 8s 1s/step - loss: 2.3990 - accuracy: 0.4130 - val_loss: 2.8996 - val_accuracy: 0.3472\n",
            "Epoch 36/50\n",
            "7/7 [==============================] - 8s 1s/step - loss: 2.3342 - accuracy: 0.4171 - val_loss: 2.8415 - val_accuracy: 0.3384\n",
            "Epoch 37/50\n",
            "7/7 [==============================] - 8s 1s/step - loss: 2.2874 - accuracy: 0.4196 - val_loss: 2.8187 - val_accuracy: 0.3082\n",
            "Epoch 38/50\n",
            "7/7 [==============================] - 8s 1s/step - loss: 2.2446 - accuracy: 0.4372 - val_loss: 2.7893 - val_accuracy: 0.2566\n",
            "Epoch 39/50\n",
            "7/7 [==============================] - 8s 1s/step - loss: 2.2229 - accuracy: 0.4136 - val_loss: 2.7375 - val_accuracy: 0.2843\n",
            "Epoch 40/50\n",
            "7/7 [==============================] - 8s 1s/step - loss: 2.2099 - accuracy: 0.4215 - val_loss: 2.7486 - val_accuracy: 0.2918\n",
            "Epoch 41/50\n",
            "7/7 [==============================] - 8s 1s/step - loss: 2.1528 - accuracy: 0.4252 - val_loss: 2.6594 - val_accuracy: 0.2742\n",
            "Epoch 42/50\n",
            "7/7 [==============================] - 8s 1s/step - loss: 2.1279 - accuracy: 0.4419 - val_loss: 2.6919 - val_accuracy: 0.2931\n",
            "Epoch 43/50\n",
            "7/7 [==============================] - 8s 1s/step - loss: 2.0719 - accuracy: 0.4369 - val_loss: 2.6240 - val_accuracy: 0.2780\n",
            "Epoch 44/50\n",
            "7/7 [==============================] - 8s 1s/step - loss: 2.0175 - accuracy: 0.4573 - val_loss: 2.5943 - val_accuracy: 0.3031\n",
            "Epoch 45/50\n",
            "7/7 [==============================] - 8s 1s/step - loss: 2.0154 - accuracy: 0.4520 - val_loss: 2.6244 - val_accuracy: 0.2981\n",
            "Epoch 46/50\n",
            "7/7 [==============================] - 8s 1s/step - loss: 1.9904 - accuracy: 0.4473 - val_loss: 2.6421 - val_accuracy: 0.2881\n",
            "Epoch 47/50\n",
            "7/7 [==============================] - 8s 1s/step - loss: 1.9606 - accuracy: 0.4533 - val_loss: 2.5271 - val_accuracy: 0.3082\n",
            "Epoch 48/50\n",
            "7/7 [==============================] - 8s 1s/step - loss: 1.9608 - accuracy: 0.4435 - val_loss: 2.5022 - val_accuracy: 0.3006\n",
            "Epoch 49/50\n",
            "7/7 [==============================] - 8s 1s/step - loss: 1.9276 - accuracy: 0.4586 - val_loss: 2.5470 - val_accuracy: 0.2868\n",
            "Epoch 50/50\n",
            "7/7 [==============================] - 8s 1s/step - loss: 1.9079 - accuracy: 0.4696 - val_loss: 2.4419 - val_accuracy: 0.2843\n",
            "32/32 [==============================] - 1s 35ms/step - loss: 2.4933 - accuracy: 0.2656\n"
          ]
        }
      ]
    },
    {
      "cell_type": "code",
      "source": [
        "# Train the model\n",
        "from keras.callbacks import EarlyStopping\n",
        "\n",
        "# Define the EarlyStopping callback\n",
        "early_stopping = EarlyStopping(monitor='val_loss', patience=5, restore_best_weights=True)\n",
        "\n",
        "# Train the model with the EarlyStopping callback\n",
        "history = model.fit(train_padded_sequences, y_train,\n",
        "                    epochs=50, batch_size=512, validation_data=(valid_padded_sequences, y_valid),#validation_split=0.20,\n",
        "                    callbacks=[early_stopping])\n",
        "\n",
        "# Evaluate the model\n",
        "results = model.evaluate(test_padded_sequences, y_test)\n",
        "\n"
      ],
      "metadata": {
        "colab": {
          "base_uri": "https://localhost:8080/"
        },
        "id": "jlfrMc4d6MB3",
        "outputId": "d4d8a539-09f5-4944-8918-fadc43541759"
      },
      "execution_count": null,
      "outputs": [
        {
          "output_type": "stream",
          "name": "stdout",
          "text": [
            "Epoch 1/50\n",
            "7/7 [==============================] - 8s 1s/step - loss: 1.8966 - accuracy: 0.4570 - val_loss: 2.4318 - val_accuracy: 0.3006\n",
            "Epoch 2/50\n",
            "7/7 [==============================] - 8s 1s/step - loss: 1.8924 - accuracy: 0.4473 - val_loss: 2.4703 - val_accuracy: 0.2579\n",
            "Epoch 3/50\n",
            "7/7 [==============================] - 8s 1s/step - loss: 1.8495 - accuracy: 0.4577 - val_loss: 2.4016 - val_accuracy: 0.2767\n",
            "Epoch 4/50\n",
            "7/7 [==============================] - 8s 1s/step - loss: 1.8304 - accuracy: 0.4640 - val_loss: 2.3688 - val_accuracy: 0.2918\n",
            "Epoch 5/50\n",
            "7/7 [==============================] - 8s 1s/step - loss: 1.8057 - accuracy: 0.4611 - val_loss: 2.3340 - val_accuracy: 0.2830\n",
            "Epoch 6/50\n",
            "7/7 [==============================] - 8s 1s/step - loss: 1.7769 - accuracy: 0.4759 - val_loss: 2.3247 - val_accuracy: 0.2780\n",
            "Epoch 7/50\n",
            "7/7 [==============================] - 8s 1s/step - loss: 1.7620 - accuracy: 0.4797 - val_loss: 2.2946 - val_accuracy: 0.2969\n",
            "Epoch 8/50\n",
            "7/7 [==============================] - 8s 1s/step - loss: 1.7462 - accuracy: 0.4847 - val_loss: 2.2928 - val_accuracy: 0.2818\n",
            "Epoch 9/50\n",
            "7/7 [==============================] - 8s 1s/step - loss: 1.7388 - accuracy: 0.4819 - val_loss: 2.2196 - val_accuracy: 0.2855\n",
            "Epoch 10/50\n",
            "7/7 [==============================] - 8s 1s/step - loss: 1.6781 - accuracy: 0.4904 - val_loss: 2.3167 - val_accuracy: 0.2516\n",
            "Epoch 11/50\n",
            "7/7 [==============================] - 8s 1s/step - loss: 1.6718 - accuracy: 0.4882 - val_loss: 2.2063 - val_accuracy: 0.3057\n",
            "Epoch 12/50\n",
            "7/7 [==============================] - 8s 1s/step - loss: 1.6631 - accuracy: 0.4898 - val_loss: 2.2243 - val_accuracy: 0.2943\n",
            "Epoch 13/50\n",
            "7/7 [==============================] - 8s 1s/step - loss: 1.6461 - accuracy: 0.4935 - val_loss: 2.2269 - val_accuracy: 0.2855\n",
            "Epoch 14/50\n",
            "7/7 [==============================] - 8s 1s/step - loss: 1.6239 - accuracy: 0.5080 - val_loss: 2.2061 - val_accuracy: 0.2881\n",
            "Epoch 15/50\n",
            "7/7 [==============================] - 8s 1s/step - loss: 1.6004 - accuracy: 0.4989 - val_loss: 2.2294 - val_accuracy: 0.2818\n",
            "Epoch 16/50\n",
            "7/7 [==============================] - 8s 1s/step - loss: 1.5949 - accuracy: 0.5087 - val_loss: 2.1742 - val_accuracy: 0.2969\n",
            "Epoch 17/50\n",
            "7/7 [==============================] - 8s 1s/step - loss: 1.6124 - accuracy: 0.4929 - val_loss: 2.1953 - val_accuracy: 0.3082\n",
            "Epoch 18/50\n",
            "7/7 [==============================] - 8s 1s/step - loss: 1.6204 - accuracy: 0.4976 - val_loss: 2.1619 - val_accuracy: 0.2692\n",
            "Epoch 19/50\n",
            "7/7 [==============================] - 8s 1s/step - loss: 1.5998 - accuracy: 0.4998 - val_loss: 2.1438 - val_accuracy: 0.2792\n",
            "Epoch 20/50\n",
            "7/7 [==============================] - 8s 1s/step - loss: 1.5866 - accuracy: 0.4895 - val_loss: 2.1304 - val_accuracy: 0.2679\n",
            "Epoch 21/50\n",
            "7/7 [==============================] - 8s 1s/step - loss: 1.5745 - accuracy: 0.5074 - val_loss: 2.1239 - val_accuracy: 0.2704\n",
            "Epoch 22/50\n",
            "7/7 [==============================] - 8s 1s/step - loss: 1.5533 - accuracy: 0.5137 - val_loss: 2.1469 - val_accuracy: 0.2981\n",
            "Epoch 23/50\n",
            "7/7 [==============================] - 8s 1s/step - loss: 1.5380 - accuracy: 0.5087 - val_loss: 2.1722 - val_accuracy: 0.2780\n",
            "Epoch 24/50\n",
            "7/7 [==============================] - 8s 1s/step - loss: 1.5232 - accuracy: 0.5266 - val_loss: 2.1519 - val_accuracy: 0.2654\n",
            "Epoch 25/50\n",
            "7/7 [==============================] - 8s 1s/step - loss: 1.5205 - accuracy: 0.5087 - val_loss: 2.0856 - val_accuracy: 0.2516\n",
            "Epoch 26/50\n",
            "7/7 [==============================] - 8s 1s/step - loss: 1.4862 - accuracy: 0.5212 - val_loss: 2.1116 - val_accuracy: 0.2516\n",
            "Epoch 27/50\n",
            "7/7 [==============================] - 8s 1s/step - loss: 1.4935 - accuracy: 0.5131 - val_loss: 2.1525 - val_accuracy: 0.2591\n",
            "Epoch 28/50\n",
            "7/7 [==============================] - 8s 1s/step - loss: 1.4647 - accuracy: 0.5225 - val_loss: 2.1086 - val_accuracy: 0.2453\n",
            "Epoch 29/50\n",
            "7/7 [==============================] - 8s 1s/step - loss: 1.4712 - accuracy: 0.5241 - val_loss: 2.0840 - val_accuracy: 0.2629\n",
            "Epoch 30/50\n",
            "7/7 [==============================] - 8s 1s/step - loss: 1.4406 - accuracy: 0.5357 - val_loss: 2.1074 - val_accuracy: 0.2692\n",
            "Epoch 31/50\n",
            "7/7 [==============================] - 8s 1s/step - loss: 1.4435 - accuracy: 0.5105 - val_loss: 2.1453 - val_accuracy: 0.2390\n",
            "Epoch 32/50\n",
            "7/7 [==============================] - 8s 1s/step - loss: 1.4196 - accuracy: 0.5266 - val_loss: 2.0954 - val_accuracy: 0.2566\n",
            "Epoch 33/50\n",
            "7/7 [==============================] - 8s 1s/step - loss: 1.4281 - accuracy: 0.5288 - val_loss: 2.0981 - val_accuracy: 0.2591\n",
            "Epoch 34/50\n",
            "7/7 [==============================] - 8s 1s/step - loss: 1.4157 - accuracy: 0.5433 - val_loss: 2.0911 - val_accuracy: 0.2302\n",
            "32/32 [==============================] - 1s 35ms/step - loss: 2.1239 - accuracy: 0.2555\n"
          ]
        }
      ]
    },
    {
      "cell_type": "code",
      "source": [
        "print(results)"
      ],
      "metadata": {
        "colab": {
          "base_uri": "https://localhost:8080/"
        },
        "id": "5-eUihn3xe1U",
        "outputId": "0b6b6210-81f5-4d88-ad6a-37d7d44126fb"
      },
      "execution_count": null,
      "outputs": [
        {
          "output_type": "stream",
          "name": "stdout",
          "text": [
            "[1.7601737976074219, 0.3541247546672821]\n"
          ]
        }
      ]
    },
    {
      "cell_type": "markdown",
      "source": [
        "# main model with preprocessing"
      ],
      "metadata": {
        "id": "TsPz1EBuvwxY"
      }
    },
    {
      "cell_type": "code",
      "source": [
        "from keras.layers import Input, Embedding, LSTM, Dense, Bidirectional\n",
        "from keras.models import Model\n",
        "# encoder input model\n",
        "max_length = 512\n",
        "inputs = Input(shape=(max_length,))\n",
        "#encoder1 = Embedding(input_dim=num_words, output_dim=embedding_dim)(inputs)\n",
        "encoder1 = Embedding(input_dim=num_words, output_dim=embedding_dim, weights=[word_vectors.vectors], trainable=False)(inputs)\n",
        "encoder2 = LSTM(128, return_sequences=True)(encoder1)  # Add return_sequences=True\n",
        "# Bidirectional LSTM layer\n",
        "encoder2_bilstm = Bidirectional(LSTM(64))(encoder2)\n",
        "\n",
        "#outputs= Dense(5, activation='softmax')\n",
        "# Define output layers for each sentiment column\n",
        "output_layers = []\n",
        "x=13\n",
        "output_layer1 = Dense(32, activation='relu')(encoder2_bilstm)\n",
        "#output_layer2 = Dense(16, activation='relu')(output_layer1)\n",
        "output_layer = Dense(x, activation='softmax')(output_layer1)\n",
        "#output_layer = Dense(x, activation='softmax', name=col)(encoder2_bilstm) #label_encoder.classes_.shape[0]\n",
        "output_layers.append(output_layer)\n",
        "\n",
        "# Tie it together\n",
        "model = Model(inputs=inputs, outputs=output_layers)\n",
        "model.summary()\n",
        "model.compile(optimizer='adam', loss='sparse_categorical_crossentropy', metrics=['accuracy'])\n",
        "from tensorflow.keras.preprocessing.text import Tokenizer\n",
        "from tensorflow.keras.preprocessing.sequence import pad_sequences\n",
        "# Convert your text data to sequences and pad them\n",
        "padding_type = 'post'  # Pad sequences at the end\n",
        "truncating_type = 'post'  # Truncate sequences at the end\n",
        "# Padding sequences\n",
        "# Assuming you have already defined a tokenizer\n",
        "input_column=\"ptext\"\n",
        "train_sequences = tokenizer.texts_to_sequences(X_train[input_column])\n",
        "train_padded_sequences = pad_sequences(train_sequences, maxlen=max_length, padding=padding_type, truncating=truncating_type)\n",
        "test_sequences = tokenizer.texts_to_sequences(X_test[input_column])\n",
        "test_padded_sequences = pad_sequences(test_sequences, maxlen=max_length, padding=padding_type, truncating=truncating_type)\n",
        "valid_sequences = tokenizer.texts_to_sequences(X_valid[input_column])\n",
        "valid_padded_sequences = pad_sequences(valid_sequences, maxlen=max_length, padding=padding_type, truncating=truncating_type)\n",
        "\n",
        "# Train the model\n",
        "from keras.callbacks import EarlyStopping\n",
        "\n",
        "# Define the EarlyStopping callback\n",
        "early_stopping = EarlyStopping(monitor='val_accuracy', patience=5, restore_best_weights=True)\n",
        "\n",
        "# Train the model with the EarlyStopping callback\n",
        "history = model.fit(train_padded_sequences, y_train,\n",
        "                    epochs=100, batch_size=512, validation_data=(valid_padded_sequences, y_valid),#validation_split=0.20,\n",
        "                    callbacks=[early_stopping])\n",
        "\n",
        "# Evaluate the model\n",
        "results = model.evaluate(test_padded_sequences, y_test)\n",
        "\n",
        "\n",
        "print(results)"
      ],
      "metadata": {
        "colab": {
          "base_uri": "https://localhost:8080/"
        },
        "id": "65fcyfFGAsVh",
        "outputId": "2853bd5c-fb52-4101-8d01-fefe752d3181"
      },
      "execution_count": 24,
      "outputs": [
        {
          "output_type": "stream",
          "name": "stdout",
          "text": [
            "Model: \"model_1\"\n",
            "_________________________________________________________________\n",
            " Layer (type)                Output Shape              Param #   \n",
            "=================================================================\n",
            " input_2 (InputLayer)        [(None, 512)]             0         \n",
            "                                                                 \n",
            " embedding_1 (Embedding)     (None, 512, 300)          19378200  \n",
            "                                                                 \n",
            " lstm_2 (LSTM)               (None, 512, 128)          219648    \n",
            "                                                                 \n",
            " bidirectional_1 (Bidirecti  (None, 128)               98816     \n",
            " onal)                                                           \n",
            "                                                                 \n",
            " dense_2 (Dense)             (None, 32)                4128      \n",
            "                                                                 \n",
            " dense_3 (Dense)             (None, 13)                429       \n",
            "                                                                 \n",
            "=================================================================\n",
            "Total params: 19701221 (75.15 MB)\n",
            "Trainable params: 323021 (1.23 MB)\n",
            "Non-trainable params: 19378200 (73.92 MB)\n",
            "_________________________________________________________________\n",
            "Epoch 1/100\n",
            "7/7 [==============================] - 9s 445ms/step - loss: 2.3591 - accuracy: 0.2345 - val_loss: 2.1823 - val_accuracy: 0.3245\n",
            "Epoch 2/100\n",
            "7/7 [==============================] - 2s 249ms/step - loss: 2.1353 - accuracy: 0.3211 - val_loss: 2.0587 - val_accuracy: 0.3283\n",
            "Epoch 3/100\n",
            "7/7 [==============================] - 2s 253ms/step - loss: 2.0151 - accuracy: 0.3374 - val_loss: 1.9844 - val_accuracy: 0.3597\n",
            "Epoch 4/100\n",
            "7/7 [==============================] - 2s 230ms/step - loss: 1.9351 - accuracy: 0.3544 - val_loss: 1.9198 - val_accuracy: 0.3535\n",
            "Epoch 5/100\n",
            "7/7 [==============================] - 2s 248ms/step - loss: 1.8528 - accuracy: 0.3692 - val_loss: 1.8657 - val_accuracy: 0.3698\n",
            "Epoch 6/100\n",
            "7/7 [==============================] - 2s 232ms/step - loss: 1.7733 - accuracy: 0.3931 - val_loss: 1.8264 - val_accuracy: 0.3509\n",
            "Epoch 7/100\n",
            "7/7 [==============================] - 2s 247ms/step - loss: 1.6974 - accuracy: 0.4212 - val_loss: 1.7912 - val_accuracy: 0.3899\n",
            "Epoch 8/100\n",
            "7/7 [==============================] - 2s 234ms/step - loss: 1.6169 - accuracy: 0.4262 - val_loss: 1.7528 - val_accuracy: 0.3585\n",
            "Epoch 9/100\n",
            "7/7 [==============================] - 2s 234ms/step - loss: 1.5426 - accuracy: 0.4441 - val_loss: 1.7398 - val_accuracy: 0.3648\n",
            "Epoch 10/100\n",
            "7/7 [==============================] - 2s 231ms/step - loss: 1.4808 - accuracy: 0.4583 - val_loss: 1.7413 - val_accuracy: 0.3459\n",
            "Epoch 11/100\n",
            "7/7 [==============================] - 2s 240ms/step - loss: 1.4114 - accuracy: 0.4699 - val_loss: 1.7474 - val_accuracy: 0.3560\n",
            "Epoch 12/100\n",
            "7/7 [==============================] - 2s 260ms/step - loss: 1.3558 - accuracy: 0.4794 - val_loss: 1.7965 - val_accuracy: 0.3346\n",
            "32/32 [==============================] - 1s 24ms/step - loss: 1.8048 - accuracy: 0.3652\n",
            "[1.8048112392425537, 0.36519116163253784]\n"
          ]
        }
      ]
    },
    {
      "cell_type": "code",
      "source": [
        "# Get predictions from the model\n",
        "test_probabilities = model.predict(test_padded_sequences)\n",
        "\n",
        "# Find the predicted class labels using argmax\n",
        "test_predictions = test_probabilities.argmax(axis=1)\n",
        "test_predictions"
      ],
      "metadata": {
        "id": "_etbnL2Zvzx7"
      },
      "execution_count": null,
      "outputs": []
    },
    {
      "cell_type": "code",
      "source": [],
      "metadata": {
        "id": "8oHcgdZqxk-K"
      },
      "execution_count": 25,
      "outputs": []
    },
    {
      "cell_type": "code",
      "source": [
        "\n",
        "# Create a DataFrame with a single column for predictions\n",
        "test_predictions_df = pd.DataFrame({'predictions': test_predictions})\n",
        "\n",
        "# Save the DataFrame to a CSV file\n",
        "test_predictions_df.to_csv('/content/drive/MyDrive/bilstm_pp_r.csv', index=False)\n"
      ],
      "metadata": {
        "id": "YADvRCkYxkof"
      },
      "execution_count": 26,
      "outputs": []
    },
    {
      "cell_type": "markdown",
      "source": [
        "here"
      ],
      "metadata": {
        "id": "RhtkNvubDgBO"
      }
    },
    {
      "cell_type": "markdown",
      "source": [
        "# another"
      ],
      "metadata": {
        "id": "pAr9CGRjrkRP"
      }
    },
    {
      "cell_type": "code",
      "source": [
        "from tensorflow.keras.layers import Input, Dense, Dropout, Flatten, Conv1D, Embedding\n",
        "from tensorflow.keras.models import Model\n",
        "\n",
        "# Define your input shape and other parameters\n",
        "max_length = 512\n",
        "num_classes = 13\n",
        "\n",
        "# Encoder input model\n",
        "inputs = Input(shape=(max_length,))\n",
        "encoder1 = Embedding(input_dim=num_words, output_dim=embedding_dim, weights=[word_vectors.vectors], trainable=False)(inputs)\n",
        "\n",
        "# Add a Conv1D layer\n",
        "conv_layer = Conv1D(filters=1024, kernel_size=3, activation='relu')(encoder1)\n",
        "\n",
        "output_layer1 = Dense(512, activation='relu')(conv_layer)\n",
        "output_layer2 = Dropout(0.5)(output_layer1)\n",
        "flatten = Flatten()(output_layer2)\n",
        "output_layer3 = Dense(128, activation='relu')(flatten)\n",
        "output_layer = Dense(num_classes, activation='softmax')(output_layer3)\n",
        "\n",
        "# Tie it together\n",
        "model = Model(inputs=inputs, outputs=output_layer)\n",
        "model.summary()\n"
      ],
      "metadata": {
        "id": "gdezgEROrlm4",
        "colab": {
          "base_uri": "https://localhost:8080/"
        },
        "outputId": "98158f83-dbb1-4d1f-bf62-af41fc987e7e"
      },
      "execution_count": null,
      "outputs": [
        {
          "output_type": "stream",
          "name": "stdout",
          "text": [
            "Model: \"model_21\"\n",
            "_________________________________________________________________\n",
            " Layer (type)                Output Shape              Param #   \n",
            "=================================================================\n",
            " input_22 (InputLayer)       [(None, 512)]             0         \n",
            "                                                                 \n",
            " embedding_20 (Embedding)    (None, 512, 300)          5782800   \n",
            "                                                                 \n",
            " conv1d_2 (Conv1D)           (None, 510, 1024)         922624    \n",
            "                                                                 \n",
            " dense_56 (Dense)            (None, 510, 512)          524800    \n",
            "                                                                 \n",
            " dropout_6 (Dropout)         (None, 510, 512)          0         \n",
            "                                                                 \n",
            " flatten_4 (Flatten)         (None, 261120)            0         \n",
            "                                                                 \n",
            " dense_57 (Dense)            (None, 128)               33423488  \n",
            "                                                                 \n",
            " dense_58 (Dense)            (None, 13)                1677      \n",
            "                                                                 \n",
            "=================================================================\n",
            "Total params: 40655389 (155.09 MB)\n",
            "Trainable params: 34872589 (133.03 MB)\n",
            "Non-trainable params: 5782800 (22.06 MB)\n",
            "_________________________________________________________________\n"
          ]
        }
      ]
    },
    {
      "cell_type": "code",
      "source": [
        "model.compile(optimizer='adam', loss='sparse_categorical_crossentropy', metrics=['accuracy'])"
      ],
      "metadata": {
        "id": "0rj9iKCFwgGe"
      },
      "execution_count": null,
      "outputs": []
    },
    {
      "cell_type": "code",
      "source": [
        "# Train the model\n",
        "from keras.callbacks import EarlyStopping\n",
        "\n",
        "# Define the EarlyStopping callback\n",
        "early_stopping = EarlyStopping(monitor='val_accuracy', patience=5, restore_best_weights=True)\n",
        "\n",
        "# Train the model with the EarlyStopping callback\n",
        "history = model.fit(train_padded_sequences, y_train,\n",
        "                    epochs=50, batch_size=512, validation_data=(valid_padded_sequences, y_valid),#validation_split=0.20,\n",
        "                    callbacks=[early_stopping])\n",
        "\n",
        "# Evaluate the model\n",
        "results = model.evaluate(test_padded_sequences, y_test)\n",
        "\n"
      ],
      "metadata": {
        "id": "srRbsAG7wgCo",
        "colab": {
          "base_uri": "https://localhost:8080/"
        },
        "outputId": "3c08ab3b-2710-410c-8756-c01554f51b99"
      },
      "execution_count": null,
      "outputs": [
        {
          "output_type": "stream",
          "name": "stdout",
          "text": [
            "Epoch 1/50\n",
            "7/7 [==============================] - 14s 1s/step - loss: 50.4583 - accuracy: 0.1627 - val_loss: 2.5463 - val_accuracy: 0.1044\n",
            "Epoch 2/50\n",
            "7/7 [==============================] - 4s 559ms/step - loss: 2.5534 - accuracy: 0.1036 - val_loss: 2.5479 - val_accuracy: 0.1019\n",
            "Epoch 3/50\n",
            "7/7 [==============================] - 4s 623ms/step - loss: 2.5330 - accuracy: 0.0935 - val_loss: 2.4948 - val_accuracy: 0.1233\n",
            "Epoch 4/50\n",
            "7/7 [==============================] - 4s 626ms/step - loss: 2.4518 - accuracy: 0.1857 - val_loss: 2.4043 - val_accuracy: 0.2088\n",
            "Epoch 5/50\n",
            "7/7 [==============================] - 4s 606ms/step - loss: 2.3849 - accuracy: 0.2210 - val_loss: 2.3645 - val_accuracy: 0.2088\n",
            "Epoch 6/50\n",
            "7/7 [==============================] - 4s 556ms/step - loss: 2.3549 - accuracy: 0.2254 - val_loss: 2.3498 - val_accuracy: 0.1950\n",
            "Epoch 7/50\n",
            "7/7 [==============================] - 4s 626ms/step - loss: 2.3457 - accuracy: 0.2288 - val_loss: 2.3387 - val_accuracy: 0.2151\n",
            "Epoch 8/50\n",
            "7/7 [==============================] - 4s 552ms/step - loss: 2.3294 - accuracy: 0.2304 - val_loss: 2.3417 - val_accuracy: 0.1950\n",
            "Epoch 9/50\n",
            "7/7 [==============================] - 4s 599ms/step - loss: 2.3330 - accuracy: 0.2370 - val_loss: 2.3340 - val_accuracy: 0.2138\n",
            "Epoch 10/50\n",
            "7/7 [==============================] - 4s 594ms/step - loss: 2.3197 - accuracy: 0.2380 - val_loss: 2.3298 - val_accuracy: 0.2013\n",
            "Epoch 11/50\n",
            "7/7 [==============================] - 4s 572ms/step - loss: 2.3165 - accuracy: 0.2241 - val_loss: 2.3281 - val_accuracy: 0.2164\n",
            "Epoch 12/50\n",
            "7/7 [==============================] - 4s 627ms/step - loss: 2.3190 - accuracy: 0.2288 - val_loss: 2.3297 - val_accuracy: 0.2214\n",
            "Epoch 13/50\n",
            "7/7 [==============================] - 4s 542ms/step - loss: 2.3159 - accuracy: 0.2288 - val_loss: 2.3437 - val_accuracy: 0.2025\n",
            "Epoch 14/50\n",
            "7/7 [==============================] - 4s 540ms/step - loss: 2.3243 - accuracy: 0.2314 - val_loss: 2.3256 - val_accuracy: 0.2176\n",
            "Epoch 15/50\n",
            "7/7 [==============================] - 4s 542ms/step - loss: 2.3242 - accuracy: 0.2304 - val_loss: 2.3223 - val_accuracy: 0.2025\n",
            "Epoch 16/50\n",
            "7/7 [==============================] - 4s 587ms/step - loss: 2.3087 - accuracy: 0.2288 - val_loss: 2.3266 - val_accuracy: 0.2113\n",
            "Epoch 17/50\n",
            "7/7 [==============================] - 4s 565ms/step - loss: 2.3106 - accuracy: 0.2251 - val_loss: 2.3260 - val_accuracy: 0.2239\n",
            "Epoch 18/50\n",
            "7/7 [==============================] - 4s 541ms/step - loss: 2.3089 - accuracy: 0.2298 - val_loss: 2.3240 - val_accuracy: 0.2239\n",
            "Epoch 19/50\n",
            "7/7 [==============================] - 4s 545ms/step - loss: 2.3075 - accuracy: 0.2345 - val_loss: 2.3370 - val_accuracy: 0.2226\n",
            "Epoch 20/50\n",
            "7/7 [==============================] - 4s 542ms/step - loss: 2.3215 - accuracy: 0.2304 - val_loss: 2.3166 - val_accuracy: 0.2050\n",
            "Epoch 21/50\n",
            "7/7 [==============================] - 4s 542ms/step - loss: 2.3067 - accuracy: 0.2310 - val_loss: 2.3129 - val_accuracy: 0.2201\n",
            "Epoch 22/50\n",
            "7/7 [==============================] - 4s 630ms/step - loss: 2.3063 - accuracy: 0.2147 - val_loss: 2.3136 - val_accuracy: 0.2050\n",
            "32/32 [==============================] - 1s 18ms/step - loss: 2.3149 - accuracy: 0.2113\n"
          ]
        }
      ]
    },
    {
      "cell_type": "markdown",
      "source": [
        "# new columns"
      ],
      "metadata": {
        "id": "ssDeOOnjwpUU"
      }
    },
    {
      "cell_type": "code",
      "source": [
        "from sklearn.feature_extraction.text import CountVectorizer\n",
        "from sklearn.model_selection import train_test_split\n",
        "from sklearn.preprocessing import LabelEncoder\n",
        "vectorizer=CountVectorizer(analyzer='word')\n",
        "feature_space=vectorizer.fit_transform(list(train['text']))\n",
        "count_vect_df = pd.DataFrame(feature_space.todense())\n",
        "new_df=pd.concat([train, count_vect_df], axis=1)\n",
        "new_df.head()"
      ],
      "metadata": {
        "id": "HZC-N6T8wgBK",
        "colab": {
          "base_uri": "https://localhost:8080/",
          "height": 235
        },
        "outputId": "baa6d5be-3561-4f69-ef4e-6b41c4a2c0e7"
      },
      "execution_count": null,
      "outputs": [
        {
          "output_type": "execute_result",
          "data": {
            "text/plain": [
              "                                                text  \\\n",
              "0  TITLE OF PROCEDURE,Creation of AV fistula, lef...   \n",
              "1  PREOPERATIVE DIAGNOSIS: , Tailor's bunion, rig...   \n",
              "2  PROCEDURE: , Placement of left ventriculostomy...   \n",
              "3  SUBJECTIVE:  ,The patient seen and examined fe...   \n",
              "4  HISTORY OF PRESENT ILLNESS:,  This is a 55-yea...   \n",
              "\n",
              "                                               ptext  index  label  0  1  2  \\\n",
              "0  title procedure creation av fistula left wrist...   1176     10  0  0  0   \n",
              "1  preoperative diagnosis tailor bunion right foo...    997     10  0  0  0   \n",
              "2  procedure placement left ventriculostomy via t...   2738      5  0  0  0   \n",
              "3  subjective patient seen examined feel better t...   1409      9  0  1  0   \n",
              "4  history present illness 55 year old female his...   3758     12  0  0  0   \n",
              "\n",
              "   3  4  5  ...  21112  21113  21114  21115  21116  21117  21118  21119  \\\n",
              "0  0  0  0  ...      0      0      0      0      0      0      0      0   \n",
              "1  0  0  0  ...      0      0      0      0      0      0      0      0   \n",
              "2  0  0  0  ...      0      0      0      0      0      0      0      0   \n",
              "3  0  0  0  ...      0      0      0      0      0      0      0      0   \n",
              "4  0  0  0  ...      0      0      0      0      0      0      0      0   \n",
              "\n",
              "   21120  21121  \n",
              "0      0      0  \n",
              "1      0      0  \n",
              "2      0      0  \n",
              "3      0      0  \n",
              "4      0      0  \n",
              "\n",
              "[5 rows x 21126 columns]"
            ],
            "text/html": [
              "\n",
              "  <div id=\"df-25e413bf-9d81-402d-b12e-cb6461cb8775\" class=\"colab-df-container\">\n",
              "    <div>\n",
              "<style scoped>\n",
              "    .dataframe tbody tr th:only-of-type {\n",
              "        vertical-align: middle;\n",
              "    }\n",
              "\n",
              "    .dataframe tbody tr th {\n",
              "        vertical-align: top;\n",
              "    }\n",
              "\n",
              "    .dataframe thead th {\n",
              "        text-align: right;\n",
              "    }\n",
              "</style>\n",
              "<table border=\"1\" class=\"dataframe\">\n",
              "  <thead>\n",
              "    <tr style=\"text-align: right;\">\n",
              "      <th></th>\n",
              "      <th>text</th>\n",
              "      <th>ptext</th>\n",
              "      <th>index</th>\n",
              "      <th>label</th>\n",
              "      <th>0</th>\n",
              "      <th>1</th>\n",
              "      <th>2</th>\n",
              "      <th>3</th>\n",
              "      <th>4</th>\n",
              "      <th>5</th>\n",
              "      <th>...</th>\n",
              "      <th>21112</th>\n",
              "      <th>21113</th>\n",
              "      <th>21114</th>\n",
              "      <th>21115</th>\n",
              "      <th>21116</th>\n",
              "      <th>21117</th>\n",
              "      <th>21118</th>\n",
              "      <th>21119</th>\n",
              "      <th>21120</th>\n",
              "      <th>21121</th>\n",
              "    </tr>\n",
              "  </thead>\n",
              "  <tbody>\n",
              "    <tr>\n",
              "      <th>0</th>\n",
              "      <td>TITLE OF PROCEDURE,Creation of AV fistula, lef...</td>\n",
              "      <td>title procedure creation av fistula left wrist...</td>\n",
              "      <td>1176</td>\n",
              "      <td>10</td>\n",
              "      <td>0</td>\n",
              "      <td>0</td>\n",
              "      <td>0</td>\n",
              "      <td>0</td>\n",
              "      <td>0</td>\n",
              "      <td>0</td>\n",
              "      <td>...</td>\n",
              "      <td>0</td>\n",
              "      <td>0</td>\n",
              "      <td>0</td>\n",
              "      <td>0</td>\n",
              "      <td>0</td>\n",
              "      <td>0</td>\n",
              "      <td>0</td>\n",
              "      <td>0</td>\n",
              "      <td>0</td>\n",
              "      <td>0</td>\n",
              "    </tr>\n",
              "    <tr>\n",
              "      <th>1</th>\n",
              "      <td>PREOPERATIVE DIAGNOSIS: , Tailor's bunion, rig...</td>\n",
              "      <td>preoperative diagnosis tailor bunion right foo...</td>\n",
              "      <td>997</td>\n",
              "      <td>10</td>\n",
              "      <td>0</td>\n",
              "      <td>0</td>\n",
              "      <td>0</td>\n",
              "      <td>0</td>\n",
              "      <td>0</td>\n",
              "      <td>0</td>\n",
              "      <td>...</td>\n",
              "      <td>0</td>\n",
              "      <td>0</td>\n",
              "      <td>0</td>\n",
              "      <td>0</td>\n",
              "      <td>0</td>\n",
              "      <td>0</td>\n",
              "      <td>0</td>\n",
              "      <td>0</td>\n",
              "      <td>0</td>\n",
              "      <td>0</td>\n",
              "    </tr>\n",
              "    <tr>\n",
              "      <th>2</th>\n",
              "      <td>PROCEDURE: , Placement of left ventriculostomy...</td>\n",
              "      <td>procedure placement left ventriculostomy via t...</td>\n",
              "      <td>2738</td>\n",
              "      <td>5</td>\n",
              "      <td>0</td>\n",
              "      <td>0</td>\n",
              "      <td>0</td>\n",
              "      <td>0</td>\n",
              "      <td>0</td>\n",
              "      <td>0</td>\n",
              "      <td>...</td>\n",
              "      <td>0</td>\n",
              "      <td>0</td>\n",
              "      <td>0</td>\n",
              "      <td>0</td>\n",
              "      <td>0</td>\n",
              "      <td>0</td>\n",
              "      <td>0</td>\n",
              "      <td>0</td>\n",
              "      <td>0</td>\n",
              "      <td>0</td>\n",
              "    </tr>\n",
              "    <tr>\n",
              "      <th>3</th>\n",
              "      <td>SUBJECTIVE:  ,The patient seen and examined fe...</td>\n",
              "      <td>subjective patient seen examined feel better t...</td>\n",
              "      <td>1409</td>\n",
              "      <td>9</td>\n",
              "      <td>0</td>\n",
              "      <td>1</td>\n",
              "      <td>0</td>\n",
              "      <td>0</td>\n",
              "      <td>0</td>\n",
              "      <td>0</td>\n",
              "      <td>...</td>\n",
              "      <td>0</td>\n",
              "      <td>0</td>\n",
              "      <td>0</td>\n",
              "      <td>0</td>\n",
              "      <td>0</td>\n",
              "      <td>0</td>\n",
              "      <td>0</td>\n",
              "      <td>0</td>\n",
              "      <td>0</td>\n",
              "      <td>0</td>\n",
              "    </tr>\n",
              "    <tr>\n",
              "      <th>4</th>\n",
              "      <td>HISTORY OF PRESENT ILLNESS:,  This is a 55-yea...</td>\n",
              "      <td>history present illness 55 year old female his...</td>\n",
              "      <td>3758</td>\n",
              "      <td>12</td>\n",
              "      <td>0</td>\n",
              "      <td>0</td>\n",
              "      <td>0</td>\n",
              "      <td>0</td>\n",
              "      <td>0</td>\n",
              "      <td>0</td>\n",
              "      <td>...</td>\n",
              "      <td>0</td>\n",
              "      <td>0</td>\n",
              "      <td>0</td>\n",
              "      <td>0</td>\n",
              "      <td>0</td>\n",
              "      <td>0</td>\n",
              "      <td>0</td>\n",
              "      <td>0</td>\n",
              "      <td>0</td>\n",
              "      <td>0</td>\n",
              "    </tr>\n",
              "  </tbody>\n",
              "</table>\n",
              "<p>5 rows × 21126 columns</p>\n",
              "</div>\n",
              "    <div class=\"colab-df-buttons\">\n",
              "\n",
              "  <div class=\"colab-df-container\">\n",
              "    <button class=\"colab-df-convert\" onclick=\"convertToInteractive('df-25e413bf-9d81-402d-b12e-cb6461cb8775')\"\n",
              "            title=\"Convert this dataframe to an interactive table.\"\n",
              "            style=\"display:none;\">\n",
              "\n",
              "  <svg xmlns=\"http://www.w3.org/2000/svg\" height=\"24px\" viewBox=\"0 -960 960 960\">\n",
              "    <path d=\"M120-120v-720h720v720H120Zm60-500h600v-160H180v160Zm220 220h160v-160H400v160Zm0 220h160v-160H400v160ZM180-400h160v-160H180v160Zm440 0h160v-160H620v160ZM180-180h160v-160H180v160Zm440 0h160v-160H620v160Z\"/>\n",
              "  </svg>\n",
              "    </button>\n",
              "\n",
              "  <style>\n",
              "    .colab-df-container {\n",
              "      display:flex;\n",
              "      gap: 12px;\n",
              "    }\n",
              "\n",
              "    .colab-df-convert {\n",
              "      background-color: #E8F0FE;\n",
              "      border: none;\n",
              "      border-radius: 50%;\n",
              "      cursor: pointer;\n",
              "      display: none;\n",
              "      fill: #1967D2;\n",
              "      height: 32px;\n",
              "      padding: 0 0 0 0;\n",
              "      width: 32px;\n",
              "    }\n",
              "\n",
              "    .colab-df-convert:hover {\n",
              "      background-color: #E2EBFA;\n",
              "      box-shadow: 0px 1px 2px rgba(60, 64, 67, 0.3), 0px 1px 3px 1px rgba(60, 64, 67, 0.15);\n",
              "      fill: #174EA6;\n",
              "    }\n",
              "\n",
              "    .colab-df-buttons div {\n",
              "      margin-bottom: 4px;\n",
              "    }\n",
              "\n",
              "    [theme=dark] .colab-df-convert {\n",
              "      background-color: #3B4455;\n",
              "      fill: #D2E3FC;\n",
              "    }\n",
              "\n",
              "    [theme=dark] .colab-df-convert:hover {\n",
              "      background-color: #434B5C;\n",
              "      box-shadow: 0px 1px 3px 1px rgba(0, 0, 0, 0.15);\n",
              "      filter: drop-shadow(0px 1px 2px rgba(0, 0, 0, 0.3));\n",
              "      fill: #FFFFFF;\n",
              "    }\n",
              "  </style>\n",
              "\n",
              "    <script>\n",
              "      const buttonEl =\n",
              "        document.querySelector('#df-25e413bf-9d81-402d-b12e-cb6461cb8775 button.colab-df-convert');\n",
              "      buttonEl.style.display =\n",
              "        google.colab.kernel.accessAllowed ? 'block' : 'none';\n",
              "\n",
              "      async function convertToInteractive(key) {\n",
              "        const element = document.querySelector('#df-25e413bf-9d81-402d-b12e-cb6461cb8775');\n",
              "        const dataTable =\n",
              "          await google.colab.kernel.invokeFunction('convertToInteractive',\n",
              "                                                    [key], {});\n",
              "        if (!dataTable) return;\n",
              "\n",
              "        const docLinkHtml = 'Like what you see? Visit the ' +\n",
              "          '<a target=\"_blank\" href=https://colab.research.google.com/notebooks/data_table.ipynb>data table notebook</a>'\n",
              "          + ' to learn more about interactive tables.';\n",
              "        element.innerHTML = '';\n",
              "        dataTable['output_type'] = 'display_data';\n",
              "        await google.colab.output.renderOutput(dataTable, element);\n",
              "        const docLink = document.createElement('div');\n",
              "        docLink.innerHTML = docLinkHtml;\n",
              "        element.appendChild(docLink);\n",
              "      }\n",
              "    </script>\n",
              "  </div>\n",
              "\n",
              "\n",
              "<div id=\"df-d9f59f09-8ab7-455a-a262-c0a1e6e50774\">\n",
              "  <button class=\"colab-df-quickchart\" onclick=\"quickchart('df-d9f59f09-8ab7-455a-a262-c0a1e6e50774')\"\n",
              "            title=\"Suggest charts.\"\n",
              "            style=\"display:none;\">\n",
              "\n",
              "<svg xmlns=\"http://www.w3.org/2000/svg\" height=\"24px\"viewBox=\"0 0 24 24\"\n",
              "     width=\"24px\">\n",
              "    <g>\n",
              "        <path d=\"M19 3H5c-1.1 0-2 .9-2 2v14c0 1.1.9 2 2 2h14c1.1 0 2-.9 2-2V5c0-1.1-.9-2-2-2zM9 17H7v-7h2v7zm4 0h-2V7h2v10zm4 0h-2v-4h2v4z\"/>\n",
              "    </g>\n",
              "</svg>\n",
              "  </button>\n",
              "\n",
              "<style>\n",
              "  .colab-df-quickchart {\n",
              "      --bg-color: #E8F0FE;\n",
              "      --fill-color: #1967D2;\n",
              "      --hover-bg-color: #E2EBFA;\n",
              "      --hover-fill-color: #174EA6;\n",
              "      --disabled-fill-color: #AAA;\n",
              "      --disabled-bg-color: #DDD;\n",
              "  }\n",
              "\n",
              "  [theme=dark] .colab-df-quickchart {\n",
              "      --bg-color: #3B4455;\n",
              "      --fill-color: #D2E3FC;\n",
              "      --hover-bg-color: #434B5C;\n",
              "      --hover-fill-color: #FFFFFF;\n",
              "      --disabled-bg-color: #3B4455;\n",
              "      --disabled-fill-color: #666;\n",
              "  }\n",
              "\n",
              "  .colab-df-quickchart {\n",
              "    background-color: var(--bg-color);\n",
              "    border: none;\n",
              "    border-radius: 50%;\n",
              "    cursor: pointer;\n",
              "    display: none;\n",
              "    fill: var(--fill-color);\n",
              "    height: 32px;\n",
              "    padding: 0;\n",
              "    width: 32px;\n",
              "  }\n",
              "\n",
              "  .colab-df-quickchart:hover {\n",
              "    background-color: var(--hover-bg-color);\n",
              "    box-shadow: 0 1px 2px rgba(60, 64, 67, 0.3), 0 1px 3px 1px rgba(60, 64, 67, 0.15);\n",
              "    fill: var(--button-hover-fill-color);\n",
              "  }\n",
              "\n",
              "  .colab-df-quickchart-complete:disabled,\n",
              "  .colab-df-quickchart-complete:disabled:hover {\n",
              "    background-color: var(--disabled-bg-color);\n",
              "    fill: var(--disabled-fill-color);\n",
              "    box-shadow: none;\n",
              "  }\n",
              "\n",
              "  .colab-df-spinner {\n",
              "    border: 2px solid var(--fill-color);\n",
              "    border-color: transparent;\n",
              "    border-bottom-color: var(--fill-color);\n",
              "    animation:\n",
              "      spin 1s steps(1) infinite;\n",
              "  }\n",
              "\n",
              "  @keyframes spin {\n",
              "    0% {\n",
              "      border-color: transparent;\n",
              "      border-bottom-color: var(--fill-color);\n",
              "      border-left-color: var(--fill-color);\n",
              "    }\n",
              "    20% {\n",
              "      border-color: transparent;\n",
              "      border-left-color: var(--fill-color);\n",
              "      border-top-color: var(--fill-color);\n",
              "    }\n",
              "    30% {\n",
              "      border-color: transparent;\n",
              "      border-left-color: var(--fill-color);\n",
              "      border-top-color: var(--fill-color);\n",
              "      border-right-color: var(--fill-color);\n",
              "    }\n",
              "    40% {\n",
              "      border-color: transparent;\n",
              "      border-right-color: var(--fill-color);\n",
              "      border-top-color: var(--fill-color);\n",
              "    }\n",
              "    60% {\n",
              "      border-color: transparent;\n",
              "      border-right-color: var(--fill-color);\n",
              "    }\n",
              "    80% {\n",
              "      border-color: transparent;\n",
              "      border-right-color: var(--fill-color);\n",
              "      border-bottom-color: var(--fill-color);\n",
              "    }\n",
              "    90% {\n",
              "      border-color: transparent;\n",
              "      border-bottom-color: var(--fill-color);\n",
              "    }\n",
              "  }\n",
              "</style>\n",
              "\n",
              "  <script>\n",
              "    async function quickchart(key) {\n",
              "      const quickchartButtonEl =\n",
              "        document.querySelector('#' + key + ' button');\n",
              "      quickchartButtonEl.disabled = true;  // To prevent multiple clicks.\n",
              "      quickchartButtonEl.classList.add('colab-df-spinner');\n",
              "      try {\n",
              "        const charts = await google.colab.kernel.invokeFunction(\n",
              "            'suggestCharts', [key], {});\n",
              "      } catch (error) {\n",
              "        console.error('Error during call to suggestCharts:', error);\n",
              "      }\n",
              "      quickchartButtonEl.classList.remove('colab-df-spinner');\n",
              "      quickchartButtonEl.classList.add('colab-df-quickchart-complete');\n",
              "    }\n",
              "    (() => {\n",
              "      let quickchartButtonEl =\n",
              "        document.querySelector('#df-d9f59f09-8ab7-455a-a262-c0a1e6e50774 button');\n",
              "      quickchartButtonEl.style.display =\n",
              "        google.colab.kernel.accessAllowed ? 'block' : 'none';\n",
              "    })();\n",
              "  </script>\n",
              "</div>\n",
              "    </div>\n",
              "  </div>\n"
            ]
          },
          "metadata": {},
          "execution_count": 101
        }
      ]
    },
    {
      "cell_type": "code",
      "source": [],
      "metadata": {
        "id": "p3Ww36j60AZV"
      },
      "execution_count": null,
      "outputs": []
    }
  ]
}