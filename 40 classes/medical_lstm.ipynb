{
  "nbformat": 4,
  "nbformat_minor": 0,
  "metadata": {
    "colab": {
      "provenance": [],
      "gpuType": "T4"
    },
    "kernelspec": {
      "name": "python3",
      "display_name": "Python 3"
    },
    "language_info": {
      "name": "python"
    },
    "accelerator": "GPU"
  },
  "cells": [
    {
      "cell_type": "code",
      "execution_count": 1,
      "metadata": {
        "id": "d9xxPe3YEi-K",
        "colab": {
          "base_uri": "https://localhost:8080/"
        },
        "outputId": "037faf54-e4b1-4d12-e275-8308162ebceb"
      },
      "outputs": [
        {
          "output_type": "stream",
          "name": "stdout",
          "text": [
            "Mounted at /content/drive\n"
          ]
        }
      ],
      "source": [
        "from google.colab import drive\n",
        "drive.mount('/content/drive')"
      ]
    },
    {
      "cell_type": "code",
      "source": [
        "import pandas as pd\n",
        "\n",
        "# Load the train and test CSV files\n",
        "train = pd.read_csv('/content/drive/My Drive/train.csv')\n",
        "test = pd.read_csv('/content/drive/My Drive/test.csv')\n",
        "train=train[['text','ptext','index','label']]\n",
        "test=test[['text','ptext','index','label']]\n",
        "# Extract features (X) and labels (y) for train and test datasets\n",
        "X_train = train[['text', 'ptext']]\n",
        "y_train = train['label']\n",
        "\n",
        "X_test = test[['text', 'ptext']]\n",
        "y_test = test['label']\n"
      ],
      "metadata": {
        "id": "jl6znokhF3DL"
      },
      "execution_count": null,
      "outputs": []
    },
    {
      "cell_type": "code",
      "source": [
        "from sklearn.model_selection import train_test_split\n",
        "\n",
        "# Assuming you have a DataFrame 'data' with a 'label_index' column containing label indices\n",
        "\n",
        "# Split the data into training and test sets with stratified sampling\n",
        "#X_training, X_validation, y_training, y_validation = train_test_split(\n",
        "#    train[['text','ptext','index']],  # Features (TF-IDF vectors)\n",
        "#    train[['label','index']],      # Target variable (label indices)\n",
        "#    test_size=0.2,\n",
        "#    stratify=train['label'],  # Ensure stratified sampling based on label indices\n",
        "#    random_state=48  # Set a random seed for reproducibility\n",
        "#)\n",
        "\n",
        "# Merge X_train and y_train into the train DataFrame based on 'index' column\n",
        "#training = X_training.merge(y_training )\n",
        "\n",
        "# Merge X_test and y_test into the test DataFrame based on 'index' column\n",
        "#valid = X_validation.merge(y_validation)\n",
        "\n",
        "# Now, the 'train' and 'test' DataFrames are merged based on the 'index' column\n",
        "#training.to_csv('/content/drive/MyDrive/training.csv')\n",
        "#valid.to_csv('/content/drive/MyDrive/validation.csv')\n"
      ],
      "metadata": {
        "id": "Q4qT8-uAW1NZ"
      },
      "execution_count": null,
      "outputs": []
    },
    {
      "cell_type": "code",
      "source": [
        "import pandas as pd\n",
        "\n",
        "# Load the train and test CSV files\n",
        "train = pd.read_csv('/content/drive/My Drive/training.csv')\n",
        "valid=pd.read_csv('/content/drive/My Drive/validation.csv')\n",
        "test = pd.read_csv('/content/drive/My Drive/test.csv')\n",
        "train=train[['text','ptext','index','label']]\n",
        "valid=valid[['text','ptext','index','label']]\n",
        "test=test[['text','ptext','index','label']]\n",
        "# Extract features (X) and labels (y) for train and test datasets\n",
        "X_train = train[['text', 'ptext']]\n",
        "y_train = train['label']\n",
        "\n",
        "X_valid=valid[['text', 'ptext']]\n",
        "y_valid = valid['label']\n",
        "\n",
        "X_test = test[['text', 'ptext']]\n",
        "y_test = test['label']\n"
      ],
      "metadata": {
        "id": "D3QtFKnfYNUL"
      },
      "execution_count": 2,
      "outputs": []
    },
    {
      "cell_type": "markdown",
      "source": [
        "# without preproccessing"
      ],
      "metadata": {
        "id": "TrXKwu0_TXHm"
      }
    },
    {
      "cell_type": "code",
      "source": [
        "from gensim.models import Word2Vec\n",
        "\n",
        "# Combine all the sentences from the 'article1' and 'summary1' columns\n",
        "train_sentences = X_train['text'].tolist()\n",
        "# Convert the sentences to lists of words\n",
        "train_sentences = [sentence.split() for sentence in train_sentences]\n",
        "\n",
        "# Create a Word2Vec model\n",
        "model = Word2Vec(train_sentences, vector_size=300, window=5, min_count=1, workers=4)\n",
        "\n",
        "# Train the model\n",
        "model.train(train_sentences, total_examples=model.corpus_count, epochs=30)\n",
        "\n",
        "# Save the model\n",
        "#model.save(\"word2vec.model\")"
      ],
      "metadata": {
        "id": "yYohCYSpF3E4",
        "colab": {
          "base_uri": "https://localhost:8080/"
        },
        "outputId": "aeff69b7-5427-4cd3-ab11-4e7d2f3af465"
      },
      "execution_count": 3,
      "outputs": [
        {
          "output_type": "stream",
          "name": "stderr",
          "text": [
            "WARNING:gensim.models.word2vec:Effective 'alpha' higher than previous training cycles\n"
          ]
        },
        {
          "output_type": "execute_result",
          "data": {
            "text/plain": [
              "(34972280, 44241360)"
            ]
          },
          "metadata": {},
          "execution_count": 3
        }
      ]
    },
    {
      "cell_type": "code",
      "source": [
        "vocab_size = len(model.wv.key_to_index)\n",
        "\n",
        "print(len(model.wv.key_to_index))"
      ],
      "metadata": {
        "id": "c2oVpDrIF3Iw",
        "colab": {
          "base_uri": "https://localhost:8080/"
        },
        "outputId": "ba41d394-23ad-43dc-af23-18b2de75cab1"
      },
      "execution_count": 4,
      "outputs": [
        {
          "output_type": "stream",
          "name": "stdout",
          "text": [
            "64594\n"
          ]
        }
      ]
    },
    {
      "cell_type": "code",
      "source": [
        "from tensorflow.keras.preprocessing.text import Tokenizer\n",
        "\n",
        "oov_tok='<oov>'\n",
        "oov_token=oov_tok\n",
        "tokenizer = Tokenizer(oov_token=oov_tok)#,num_words = vocab_size)\n",
        "#tokenizer = Tokenizer(num_words = vocab_size)\n",
        "\n",
        "tokenizer.fit_on_texts(X_train['text'])\n",
        "print(len(list(tokenizer.word_index.keys())))\n"
      ],
      "metadata": {
        "id": "NclCh5fjF3K6",
        "colab": {
          "base_uri": "https://localhost:8080/"
        },
        "outputId": "cd31bca8-f546-42b9-b913-92c88bec6d5c"
      },
      "execution_count": 5,
      "outputs": [
        {
          "output_type": "stream",
          "name": "stdout",
          "text": [
            "21406\n"
          ]
        }
      ]
    },
    {
      "cell_type": "code",
      "source": [
        "X_train['text_indices'] = tokenizer.texts_to_sequences(X_train['text'])\n",
        "sequences = tokenizer.texts_to_sequences(X_train['text'])\n",
        "\n",
        "word_index = tokenizer.word_index\n"
      ],
      "metadata": {
        "id": "pcA_dVlvF3OP",
        "colab": {
          "base_uri": "https://localhost:8080/"
        },
        "outputId": "df05d45c-cd70-4d0a-fc0e-5e58d05a1f05"
      },
      "execution_count": 6,
      "outputs": [
        {
          "output_type": "stream",
          "name": "stderr",
          "text": [
            "<ipython-input-6-bac10b2cb6b3>:1: SettingWithCopyWarning: \n",
            "A value is trying to be set on a copy of a slice from a DataFrame.\n",
            "Try using .loc[row_indexer,col_indexer] = value instead\n",
            "\n",
            "See the caveats in the documentation: https://pandas.pydata.org/pandas-docs/stable/user_guide/indexing.html#returning-a-view-versus-a-copy\n",
            "  X_train['text_indices'] = tokenizer.texts_to_sequences(X_train['text'])\n"
          ]
        }
      ]
    },
    {
      "cell_type": "code",
      "source": [
        "len(X_train['text'][0])"
      ],
      "metadata": {
        "colab": {
          "base_uri": "https://localhost:8080/"
        },
        "id": "BCPF44nGqOS2",
        "outputId": "fba2453b-ed3a-4aea-8193-b2ee730499e8"
      },
      "execution_count": null,
      "outputs": [
        {
          "output_type": "execute_result",
          "data": {
            "text/plain": [
              "1653"
            ]
          },
          "metadata": {},
          "execution_count": 9
        }
      ]
    },
    {
      "cell_type": "code",
      "source": [
        "len(sequences[0])"
      ],
      "metadata": {
        "colab": {
          "base_uri": "https://localhost:8080/"
        },
        "id": "jd-KtPqaqX3e",
        "outputId": "d91e1434-5ea3-4175-f249-3909a6acf6c1"
      },
      "execution_count": null,
      "outputs": [
        {
          "output_type": "execute_result",
          "data": {
            "text/plain": [
              "278"
            ]
          },
          "metadata": {},
          "execution_count": 10
        }
      ]
    },
    {
      "cell_type": "code",
      "source": [
        "import matplotlib.pyplot as plt\n",
        "\n",
        "lengths = [len(text.split()) for text in X_train['text']]\n",
        "plt.figure(figsize=(10, 6))\n",
        "plt.hist(lengths, bins=50, edgecolor='black')\n",
        "plt.xlabel('Length')\n",
        "plt.ylabel('Count')\n",
        "plt.title('Distribution of Lengths in embedding_feature')\n",
        "plt.show()"
      ],
      "metadata": {
        "id": "kmsz1fKJF3Qp",
        "colab": {
          "base_uri": "https://localhost:8080/",
          "height": 564
        },
        "outputId": "5beacd2b-b185-4cf5-864a-9e817c1a73b4"
      },
      "execution_count": 7,
      "outputs": [
        {
          "output_type": "display_data",
          "data": {
            "text/plain": [
              "<Figure size 1000x600 with 1 Axes>"
            ],
            "image/png": "[encoded data removed]"
          },
          "metadata": {}
        }
      ]
    },
    {
      "cell_type": "code",
      "source": [
        "import numpy as np\n",
        "\n",
        "# Calculate the mean of lengths\n",
        "mean_length = np.mean(lengths)\n",
        "\n",
        "# Calculate the quartiles (25th, 50th, and 75th percentiles)\n",
        "quartiles = np.percentile(lengths, [25, 50, 75])\n",
        "\n",
        "print(\"Mean Length:\", mean_length)\n",
        "print(\"25th Percentile (1st Quartile):\", quartiles[0])\n",
        "print(\"50th Percentile (Median):\", quartiles[1])\n",
        "print(\"75th Percentile (3rd Quartile):\", quartiles[2])\n"
      ],
      "metadata": {
        "colab": {
          "base_uri": "https://localhost:8080/"
        },
        "id": "GdYkDWporlrM",
        "outputId": "95e38172-06bc-4490-f84f-57ba54ec8d83"
      },
      "execution_count": 8,
      "outputs": [
        {
          "output_type": "stream",
          "name": "stdout",
          "text": [
            "Mean Length: 464.1838212149827\n",
            "25th Percentile (1st Quartile): 241.0\n",
            "50th Percentile (Median): 393.0\n",
            "75th Percentile (3rd Quartile): 614.0\n"
          ]
        }
      ]
    },
    {
      "cell_type": "code",
      "source": [
        "word_vectors = model.wv\n",
        "vocab_size = len(word_vectors.key_to_index)\n",
        "num_words=len(word_vectors.key_to_index)\n",
        "\n",
        "embedding_dim = model.vector_size\n",
        "print(embedding_dim)\n"
      ],
      "metadata": {
        "id": "TmTYEZVWUDNU",
        "colab": {
          "base_uri": "https://localhost:8080/"
        },
        "outputId": "d8958044-e27b-4650-f98e-2aa62fea5f68"
      },
      "execution_count": 9,
      "outputs": [
        {
          "output_type": "stream",
          "name": "stdout",
          "text": [
            "300\n"
          ]
        }
      ]
    },
    {
      "cell_type": "code",
      "source": [
        "import pandas as pd\n",
        "import tensorflow as tf\n",
        "from tensorflow.keras.preprocessing.text import Tokenizer\n",
        "from tensorflow.keras.preprocessing.sequence import pad_sequences\n",
        "#padding_type = 'post'  # Pad sequences at the end\n",
        "#truncating_type = 'post'  # Truncate sequences at the end\n",
        "#max_length = 200\n",
        "# Padding sequences\n",
        "#padded_sequences = pad_sequences(sequences, maxlen=max_length, padding=padding_type, truncating=truncating_type)\n"
      ],
      "metadata": {
        "id": "cICkhMe0UDLg"
      },
      "execution_count": 10,
      "outputs": []
    },
    {
      "cell_type": "code",
      "source": [
        "#X_test['text_indices'] = tokenizer.texts_to_sequences(X_test['text'])\n",
        "#test_sequences = tokenizer.texts_to_sequences(X_test['text'])\n",
        "#test_padded_sequences = pad_sequences(test_sequences, maxlen=max_length, padding=padding_type, truncating=truncating_type)\n"
      ],
      "metadata": {
        "id": "TfgGNRGTUDHI"
      },
      "execution_count": 11,
      "outputs": []
    },
    {
      "cell_type": "code",
      "source": [
        "from keras.layers import Input, Embedding, LSTM, Dense, Bidirectional\n",
        "from keras.models import Model\n",
        "# encoder input model\n",
        "max_length = 1000\n",
        "inputs = Input(shape=(max_length,))\n",
        "#encoder1 = Embedding(input_dim=num_words, output_dim=embedding_dim)(inputs)\n",
        "encoder1 = Embedding(input_dim=num_words, output_dim=embedding_dim, weights=[word_vectors.vectors], trainable=False)(inputs)\n",
        "encoder2 = LSTM(256, return_sequences=True)(encoder1)  # Add return_sequences=True\n",
        "# Bidirectional LSTM layer\n",
        "encoder2_bilstm = Bidirectional(LSTM(128))(encoder2)\n",
        "\n",
        "#outputs= Dense(5, activation='softmax')\n",
        "# Define output layers for each sentiment column\n",
        "output_layers = []\n",
        "x=40\n",
        "output_layer1 = Dense(128, activation='relu')(encoder2_bilstm)\n",
        "output_layer2 = Dense(64, activation='relu')(output_layer1)\n",
        "output_layer = Dense(x, activation='softmax')(output_layer2)\n",
        "#output_layer = Dense(x, activation='softmax', name=col)(encoder2_bilstm) #label_encoder.classes_.shape[0]\n",
        "output_layers.append(output_layer)\n",
        "\n",
        "# Tie it together\n",
        "model = Model(inputs=inputs, outputs=output_layers)\n",
        "model.summary()"
      ],
      "metadata": {
        "id": "l7IB1tPHUDFY",
        "colab": {
          "base_uri": "https://localhost:8080/"
        },
        "outputId": "222bf044-3eea-4dd8-8fa4-9bc12d2e34ee"
      },
      "execution_count": 12,
      "outputs": [
        {
          "output_type": "stream",
          "name": "stdout",
          "text": [
            "Model: \"model\"\n",
            "_________________________________________________________________\n",
            " Layer (type)                Output Shape              Param #   \n",
            "=================================================================\n",
            " input_1 (InputLayer)        [(None, 1000)]            0         \n",
            "                                                                 \n",
            " embedding (Embedding)       (None, 1000, 300)         19378200  \n",
            "                                                                 \n",
            " lstm (LSTM)                 (None, 1000, 256)         570368    \n",
            "                                                                 \n",
            " bidirectional (Bidirection  (None, 256)               394240    \n",
            " al)                                                             \n",
            "                                                                 \n",
            " dense (Dense)               (None, 128)               32896     \n",
            "                                                                 \n",
            " dense_1 (Dense)             (None, 64)                8256      \n",
            "                                                                 \n",
            " dense_2 (Dense)             (None, 40)                2600      \n",
            "                                                                 \n",
            "=================================================================\n",
            "Total params: 20386560 (77.77 MB)\n",
            "Trainable params: 1008360 (3.85 MB)\n",
            "Non-trainable params: 19378200 (73.92 MB)\n",
            "_________________________________________________________________\n"
          ]
        }
      ]
    },
    {
      "cell_type": "code",
      "source": [
        "model.compile(optimizer='adam', loss='sparse_categorical_crossentropy', metrics=['accuracy'])"
      ],
      "metadata": {
        "id": "ui-nRWppUDCZ"
      },
      "execution_count": 13,
      "outputs": []
    },
    {
      "cell_type": "code",
      "source": [
        "from tensorflow.keras.preprocessing.text import Tokenizer\n",
        "from tensorflow.keras.preprocessing.sequence import pad_sequences\n",
        "# Convert your text data to sequences and pad them\n",
        "padding_type = 'post'  # Pad sequences at the end\n",
        "truncating_type = 'post'  # Truncate sequences at the end\n",
        "# Padding sequences\n",
        "# Assuming you have already defined a tokenizer\n",
        "input_column=\"text\"\n",
        "train_sequences = tokenizer.texts_to_sequences(X_train[input_column])\n",
        "train_padded_sequences = pad_sequences(train_sequences, maxlen=max_length, padding=padding_type, truncating=truncating_type)\n",
        "test_sequences = tokenizer.texts_to_sequences(X_test[input_column])\n",
        "test_padded_sequences = pad_sequences(test_sequences, maxlen=max_length, padding=padding_type, truncating=truncating_type)\n",
        "valid_sequences = tokenizer.texts_to_sequences(X_valid[input_column])\n",
        "valid_padded_sequences = pad_sequences(valid_sequences, maxlen=max_length, padding=padding_type, truncating=truncating_type)\n"
      ],
      "metadata": {
        "id": "OfKphBUEUDAU"
      },
      "execution_count": 14,
      "outputs": []
    },
    {
      "cell_type": "code",
      "source": [
        "# Train the model\n",
        "from keras.callbacks import EarlyStopping\n",
        "\n",
        "# Define the EarlyStopping callback\n",
        "early_stopping = EarlyStopping(monitor='val_loss', patience=5, restore_best_weights=True)\n",
        "\n",
        "# Train the model with the EarlyStopping callback\n",
        "history = model.fit(train_padded_sequences, y_train,\n",
        "                    epochs=100, batch_size=512, validation_data=(valid_padded_sequences, y_valid),#validation_split=0.20,\n",
        "                    callbacks=[early_stopping])\n",
        "\n",
        "# Evaluate the model\n",
        "results = model.evaluate(test_padded_sequences, y_test)\n",
        "\n"
      ],
      "metadata": {
        "id": "z3BnaY3FVHGv",
        "colab": {
          "base_uri": "https://localhost:8080/"
        },
        "outputId": "2cf5f2e4-bfef-41d6-d694-234fb2f8b52d"
      },
      "execution_count": 15,
      "outputs": [
        {
          "output_type": "stream",
          "name": "stdout",
          "text": [
            "Epoch 1/100\n",
            "7/7 [==============================] - 21s 1s/step - loss: 3.4175 - accuracy: 0.1813 - val_loss: 2.9968 - val_accuracy: 0.2503\n",
            "Epoch 2/100\n",
            "7/7 [==============================] - 8s 1s/step - loss: 2.8820 - accuracy: 0.2981 - val_loss: 2.7568 - val_accuracy: 0.3057\n",
            "Epoch 3/100\n",
            "7/7 [==============================] - 8s 1s/step - loss: 2.7179 - accuracy: 0.3138 - val_loss: 2.6498 - val_accuracy: 0.3384\n",
            "Epoch 4/100\n",
            "7/7 [==============================] - 8s 1s/step - loss: 2.6181 - accuracy: 0.3453 - val_loss: 2.5798 - val_accuracy: 0.3572\n",
            "Epoch 5/100\n",
            "7/7 [==============================] - 8s 1s/step - loss: 2.5309 - accuracy: 0.3573 - val_loss: 2.5197 - val_accuracy: 0.3409\n",
            "Epoch 6/100\n",
            "7/7 [==============================] - 8s 1s/step - loss: 2.4451 - accuracy: 0.3673 - val_loss: 2.4723 - val_accuracy: 0.3585\n",
            "Epoch 7/100\n",
            "7/7 [==============================] - 8s 1s/step - loss: 2.3701 - accuracy: 0.3780 - val_loss: 2.4213 - val_accuracy: 0.3421\n",
            "Epoch 8/100\n",
            "7/7 [==============================] - 8s 1s/step - loss: 2.2909 - accuracy: 0.3903 - val_loss: 2.3693 - val_accuracy: 0.3396\n",
            "Epoch 9/100\n",
            "7/7 [==============================] - 8s 1s/step - loss: 2.2132 - accuracy: 0.4010 - val_loss: 2.3486 - val_accuracy: 0.3560\n",
            "Epoch 10/100\n",
            "7/7 [==============================] - 8s 1s/step - loss: 2.1328 - accuracy: 0.4101 - val_loss: 2.3028 - val_accuracy: 0.3509\n",
            "Epoch 11/100\n",
            "7/7 [==============================] - 9s 1s/step - loss: 2.0475 - accuracy: 0.4073 - val_loss: 2.2920 - val_accuracy: 0.3358\n",
            "Epoch 12/100\n",
            "7/7 [==============================] - 9s 1s/step - loss: 1.9656 - accuracy: 0.4127 - val_loss: 2.2827 - val_accuracy: 0.3484\n",
            "Epoch 13/100\n",
            "7/7 [==============================] - 9s 1s/step - loss: 1.8848 - accuracy: 0.4284 - val_loss: 2.2549 - val_accuracy: 0.3208\n",
            "Epoch 14/100\n",
            "7/7 [==============================] - 10s 1s/step - loss: 1.8052 - accuracy: 0.4353 - val_loss: 2.2765 - val_accuracy: 0.3157\n",
            "Epoch 15/100\n",
            "7/7 [==============================] - 9s 1s/step - loss: 1.6970 - accuracy: 0.4448 - val_loss: 2.3130 - val_accuracy: 0.3157\n",
            "Epoch 16/100\n",
            "7/7 [==============================] - 9s 1s/step - loss: 1.6428 - accuracy: 0.4618 - val_loss: 2.3109 - val_accuracy: 0.2805\n",
            "Epoch 17/100\n",
            "7/7 [==============================] - 9s 1s/step - loss: 1.5535 - accuracy: 0.4762 - val_loss: 2.3636 - val_accuracy: 0.2767\n",
            "Epoch 18/100\n",
            "7/7 [==============================] - 10s 1s/step - loss: 1.4991 - accuracy: 0.4734 - val_loss: 2.3914 - val_accuracy: 0.2654\n",
            "32/32 [==============================] - 2s 55ms/step - loss: 2.3160 - accuracy: 0.3149\n"
          ]
        }
      ]
    },
    {
      "cell_type": "code",
      "source": [
        "print(results)"
      ],
      "metadata": {
        "colab": {
          "base_uri": "https://localhost:8080/"
        },
        "id": "086JExD90Bu2",
        "outputId": "a8eb72d7-447a-4588-bf09-a7be22b72bae"
      },
      "execution_count": 16,
      "outputs": [
        {
          "output_type": "stream",
          "name": "stdout",
          "text": [
            "[2.3159573078155518, 0.3148893415927887]\n"
          ]
        }
      ]
    },
    {
      "cell_type": "code",
      "source": [
        "# Get predictions from the model\n",
        "test_probabilities = model.predict(test_padded_sequences)\n",
        "\n",
        "# Find the predicted class labels using argmax\n",
        "test_predictions = test_probabilities.argmax(axis=1)\n",
        "\n",
        "# Create a DataFrame with a single column for predictions\n",
        "test_predictions_df = pd.DataFrame({'predictions': test_predictions})\n",
        "\n",
        "# Save the DataFrame to a CSV file\n",
        "test_predictions_df.to_csv('/content/drive/MyDrive/bilsm.csv', index=False)\n"
      ],
      "metadata": {
        "colab": {
          "base_uri": "https://localhost:8080/"
        },
        "id": "S5rDrDFPwa8G",
        "outputId": "42ab0d99-dd49-42c1-b73a-f22968d963bd"
      },
      "execution_count": 23,
      "outputs": [
        {
          "output_type": "stream",
          "name": "stdout",
          "text": [
            "32/32 [==============================] - 2s 51ms/step\n"
          ]
        }
      ]
    },
    {
      "cell_type": "code",
      "source": [
        "from sklearn.metrics import accuracy_score\n",
        "\n",
        "# Calculate accuracy\n",
        "accuracy = accuracy_score(y_test, test_predictions)\n",
        "\n",
        "print(f\"Accuracy: {accuracy * 100:.2f}%\")\n"
      ],
      "metadata": {
        "colab": {
          "base_uri": "https://localhost:8080/"
        },
        "id": "0NC08o8exQCw",
        "outputId": "ddd702f3-fada-4f48-ee86-3ad6053161d5"
      },
      "execution_count": 25,
      "outputs": [
        {
          "output_type": "stream",
          "name": "stdout",
          "text": [
            "Accuracy: 31.49%\n"
          ]
        }
      ]
    },
    {
      "cell_type": "markdown",
      "source": [
        "# with preprocessing"
      ],
      "metadata": {
        "id": "pdchqlEbVvp4"
      }
    },
    {
      "cell_type": "code",
      "source": [
        "from gensim.models import Word2Vec\n",
        "\n",
        "# Combine all the sentences from the 'article1' and 'summary1' columns\n",
        "train_sentences = X_train['ptext'].tolist()\n",
        "# Convert the sentences to lists of words\n",
        "train_sentences = [sentence.split() for sentence in train_sentences]\n",
        "\n",
        "# Create a Word2Vec model\n",
        "model = Word2Vec(train_sentences, vector_size=300, window=5, min_count=1, workers=4)\n",
        "\n",
        "# Train the model\n",
        "model.train(train_sentences, total_examples=model.corpus_count, epochs=30)\n",
        "\n",
        "# Save the model\n",
        "#model.save(\"word2vec.model\")"
      ],
      "metadata": {
        "id": "wdqDeLOVVxAQ",
        "colab": {
          "base_uri": "https://localhost:8080/"
        },
        "outputId": "4854854b-4458-4003-eb19-cf90e5df64ab"
      },
      "execution_count": 26,
      "outputs": [
        {
          "output_type": "stream",
          "name": "stderr",
          "text": [
            "WARNING:gensim.models.word2vec:Effective 'alpha' higher than previous training cycles\n"
          ]
        },
        {
          "output_type": "execute_result",
          "data": {
            "text/plain": [
              "(26879752, 28152660)"
            ]
          },
          "metadata": {},
          "execution_count": 26
        }
      ]
    },
    {
      "cell_type": "code",
      "source": [
        "vocab_size = len(model.wv.key_to_index)\n",
        "\n",
        "print(len(model.wv.key_to_index))"
      ],
      "metadata": {
        "id": "H4eMotx6ZTLm",
        "colab": {
          "base_uri": "https://localhost:8080/"
        },
        "outputId": "1bc60c9f-9ef4-4ef9-ece3-ab13f9196de1"
      },
      "execution_count": 27,
      "outputs": [
        {
          "output_type": "stream",
          "name": "stdout",
          "text": [
            "19276\n"
          ]
        }
      ]
    },
    {
      "cell_type": "code",
      "source": [
        "from tensorflow.keras.preprocessing.text import Tokenizer\n",
        "\n",
        "oov_tok='<oov>'\n",
        "oov_token=oov_tok\n",
        "tokenizer = Tokenizer(oov_token=oov_tok)#,num_words = vocab_size)\n",
        "#tokenizer = Tokenizer(num_words = vocab_size)\n",
        "\n",
        "tokenizer.fit_on_texts(X_train['ptext'])\n",
        "print(len(list(tokenizer.word_index.keys())))\n"
      ],
      "metadata": {
        "id": "WX4OqhllZTJO",
        "colab": {
          "base_uri": "https://localhost:8080/"
        },
        "outputId": "98949206-fe8b-4184-d3b6-eab0884d4bc2"
      },
      "execution_count": 28,
      "outputs": [
        {
          "output_type": "stream",
          "name": "stdout",
          "text": [
            "19277\n"
          ]
        }
      ]
    },
    {
      "cell_type": "code",
      "source": [
        "X_train['ptext_indices'] = tokenizer.texts_to_sequences(X_train['ptext'])\n",
        "sequences = tokenizer.texts_to_sequences(X_train['ptext'])\n",
        "\n",
        "word_index = tokenizer.word_index\n"
      ],
      "metadata": {
        "id": "YJxDA7NvZTFp"
      },
      "execution_count": 29,
      "outputs": []
    },
    {
      "cell_type": "code",
      "source": [
        "word_vectors = model.wv\n",
        "vocab_size = len(word_vectors.key_to_index)\n",
        "num_words=len(word_vectors.key_to_index)\n",
        "\n",
        "embedding_dim = model.vector_size\n",
        "print(embedding_dim)\n"
      ],
      "metadata": {
        "id": "6IKuhJDcZTEH",
        "colab": {
          "base_uri": "https://localhost:8080/"
        },
        "outputId": "e52c00e1-813c-46ff-c674-91f54d81b53d"
      },
      "execution_count": 30,
      "outputs": [
        {
          "output_type": "stream",
          "name": "stdout",
          "text": [
            "300\n"
          ]
        }
      ]
    },
    {
      "cell_type": "code",
      "source": [
        "from keras.layers import Input, Embedding, LSTM, Dense, Bidirectional\n",
        "from keras.models import Model\n",
        "# encoder input model\n",
        "max_length = 512\n",
        "inputs = Input(shape=(max_length,))\n",
        "#encoder1 = Embedding(input_dim=num_words, output_dim=embedding_dim)(inputs)\n",
        "encoder1 = Embedding(input_dim=num_words, output_dim=embedding_dim, weights=[word_vectors.vectors], trainable=False)(inputs)\n",
        "encoder2 = LSTM(512, return_sequences=True)(encoder1)  # Add return_sequences=True\n",
        "# Bidirectional LSTM layer\n",
        "encoder2_bilstm = Bidirectional(LSTM(256))(encoder2)\n",
        "\n",
        "#outputs= Dense(5, activation='softmax')\n",
        "# Define output layers for each sentiment column\n",
        "output_layers = []\n",
        "x=40\n",
        "output_layer1 = Dense(128, activation='relu')(encoder2_bilstm)\n",
        "output_layer2 = Dense(64, activation='relu')(output_layer1)\n",
        "output_layer = Dense(x, activation='softmax')(output_layer2)\n",
        "#output_layer = Dense(x, activation='softmax', name=col)(encoder2_bilstm) #label_encoder.classes_.shape[0]\n",
        "output_layers.append(output_layer)\n",
        "\n",
        "# Tie it together\n",
        "model = Model(inputs=inputs, outputs=output_layers)\n",
        "model.summary()\n"
      ],
      "metadata": {
        "id": "kmAlV5pmZTAi",
        "colab": {
          "base_uri": "https://localhost:8080/"
        },
        "outputId": "689f20a1-eb28-45be-8db6-fdae9ebe3dfc"
      },
      "execution_count": 35,
      "outputs": [
        {
          "output_type": "stream",
          "name": "stdout",
          "text": [
            "Model: \"model_2\"\n",
            "_________________________________________________________________\n",
            " Layer (type)                Output Shape              Param #   \n",
            "=================================================================\n",
            " input_3 (InputLayer)        [(None, 512)]             0         \n",
            "                                                                 \n",
            " embedding_2 (Embedding)     (None, 512, 300)          5782800   \n",
            "                                                                 \n",
            " lstm_4 (LSTM)               (None, 512, 512)          1665024   \n",
            "                                                                 \n",
            " bidirectional_2 (Bidirecti  (None, 512)               1574912   \n",
            " onal)                                                           \n",
            "                                                                 \n",
            " dense_6 (Dense)             (None, 128)               65664     \n",
            "                                                                 \n",
            " dense_7 (Dense)             (None, 64)                8256      \n",
            "                                                                 \n",
            " dense_8 (Dense)             (None, 40)                2600      \n",
            "                                                                 \n",
            "=================================================================\n",
            "Total params: 9099256 (34.71 MB)\n",
            "Trainable params: 3316456 (12.65 MB)\n",
            "Non-trainable params: 5782800 (22.06 MB)\n",
            "_________________________________________________________________\n"
          ]
        }
      ]
    },
    {
      "cell_type": "code",
      "source": [
        "model.compile(optimizer='adam', loss='sparse_categorical_crossentropy', metrics=['accuracy'])"
      ],
      "metadata": {
        "id": "rl1qKY-CZS_F"
      },
      "execution_count": 36,
      "outputs": []
    },
    {
      "cell_type": "code",
      "source": [
        "from tensorflow.keras.preprocessing.text import Tokenizer\n",
        "from tensorflow.keras.preprocessing.sequence import pad_sequences\n",
        "# Convert your text data to sequences and pad them\n",
        "padding_type = 'post'  # Pad sequences at the end\n",
        "truncating_type = 'post'  # Truncate sequences at the end\n",
        "# Padding sequences\n",
        "# Assuming you have already defined a tokenizer\n",
        "input_column=\"ptext\"\n",
        "train_sequences = tokenizer.texts_to_sequences(X_train[input_column])\n",
        "train_padded_sequences = pad_sequences(train_sequences, maxlen=max_length, padding=padding_type, truncating=truncating_type)\n",
        "test_sequences = tokenizer.texts_to_sequences(X_test[input_column])\n",
        "test_padded_sequences = pad_sequences(test_sequences, maxlen=max_length, padding=padding_type, truncating=truncating_type)\n",
        "valid_sequences = tokenizer.texts_to_sequences(X_valid[input_column])\n",
        "valid_padded_sequences = pad_sequences(valid_sequences, maxlen=max_length, padding=padding_type, truncating=truncating_type)\n"
      ],
      "metadata": {
        "id": "21qq8X1IZS7f"
      },
      "execution_count": 37,
      "outputs": []
    },
    {
      "cell_type": "code",
      "source": [
        "# Train the model\n",
        "from keras.callbacks import EarlyStopping\n",
        "\n",
        "# Define the EarlyStopping callback\n",
        "early_stopping = EarlyStopping(monitor='val_loss', patience=5, restore_best_weights=True)\n",
        "\n",
        "# Train the model with the EarlyStopping callback\n",
        "history = model.fit(train_padded_sequences, y_train,\n",
        "                    epochs=50, batch_size=512, validation_data=(valid_padded_sequences, y_valid),#validation_split=0.20,\n",
        "                    callbacks=[early_stopping])\n",
        "\n",
        "# Evaluate the model\n",
        "results = model.evaluate(test_padded_sequences, y_test)\n",
        "\n"
      ],
      "metadata": {
        "id": "1DdidV6kZS6N",
        "colab": {
          "base_uri": "https://localhost:8080/"
        },
        "outputId": "66d4f933-0a74-4012-a311-865514cb49e7"
      },
      "execution_count": null,
      "outputs": [
        {
          "output_type": "stream",
          "name": "stdout",
          "text": [
            "Epoch 1/50\n",
            "7/7 [==============================] - 19s 2s/step - loss: 3.2366 - accuracy: 0.2043 - val_loss: 2.8812 - val_accuracy: 0.3031\n",
            "Epoch 2/50\n",
            "7/7 [==============================] - 13s 2s/step - loss: 2.7518 - accuracy: 0.3242 - val_loss: 2.6570 - val_accuracy: 0.3535\n",
            "Epoch 3/50\n",
            "7/7 [==============================] - 13s 2s/step - loss: 2.5839 - accuracy: 0.3516 - val_loss: 2.5194 - val_accuracy: 0.3535\n",
            "Epoch 4/50\n",
            "7/7 [==============================] - 13s 2s/step - loss: 2.4452 - accuracy: 0.3636 - val_loss: 2.4434 - val_accuracy: 0.3597\n",
            "Epoch 5/50\n",
            "7/7 [==============================] - 13s 2s/step - loss: 2.3167 - accuracy: 0.3783 - val_loss: 2.4134 - val_accuracy: 0.3560\n",
            "Epoch 6/50\n"
          ]
        }
      ]
    },
    {
      "cell_type": "code",
      "source": [
        "print(results)"
      ],
      "metadata": {
        "id": "5-eUihn3xe1U"
      },
      "execution_count": null,
      "outputs": []
    },
    {
      "cell_type": "code",
      "source": [
        "# Get predictions from the model\n",
        "test_probabilities = model.predict(test_padded_sequences)\n",
        "\n",
        "# Find the predicted class labels using argmax\n",
        "test_predictions = test_probabilities.argmax(axis=1)\n",
        "\n",
        "# Create a DataFrame with a single column for predictions\n",
        "test_predictions_df = pd.DataFrame({'predictions': test_predictions})\n",
        "\n",
        "# Save the DataFrame to a CSV file\n",
        "test_predictions_df.to_csv('/content/drive/MyDrive/bilsm_pp.csv', index=False)\n"
      ],
      "metadata": {
        "id": "TOo9Dz9EurJk"
      },
      "execution_count": null,
      "outputs": []
    },
    {
      "cell_type": "markdown",
      "source": [
        "# another"
      ],
      "metadata": {
        "id": "pAr9CGRjrkRP"
      }
    },
    {
      "cell_type": "code",
      "source": [
        "from tensorflow.keras.layers import Input, Dense, Dropout\n",
        "from tensorflow.keras.models import Model\n",
        "\n",
        "# Encoder input model\n",
        "max_length = 512\n",
        "inputs = Input(shape=(max_length,))\n",
        "num_classes = 40\n",
        "\n",
        "output_layer1 = Dense(512, activation='relu')(inputs)\n",
        "output_layer2 = Dropout(0.5)(output_layer1)\n",
        "output_layer = Dense(num_classes, activation='softmax')(output_layer2)\n",
        "\n",
        "# Tie it together\n",
        "model = Model(inputs=inputs, outputs=output_layer)\n",
        "model.summary()\n"
      ],
      "metadata": {
        "id": "gdezgEROrlm4"
      },
      "execution_count": null,
      "outputs": []
    },
    {
      "cell_type": "code",
      "source": [],
      "metadata": {
        "id": "0rj9iKCFwgGe"
      },
      "execution_count": null,
      "outputs": []
    },
    {
      "cell_type": "code",
      "source": [],
      "metadata": {
        "id": "srRbsAG7wgCo"
      },
      "execution_count": null,
      "outputs": []
    },
    {
      "cell_type": "markdown",
      "source": [
        "# new columns"
      ],
      "metadata": {
        "id": "ssDeOOnjwpUU"
      }
    },
    {
      "cell_type": "code",
      "source": [
        "from sklearn.feature_extraction.text import CountVectorizer\n",
        "from sklearn.model_selection import train_test_split\n",
        "from sklearn.preprocessing import LabelEncoder\n",
        "vectorizer=CountVectorizer(analyzer='word')\n",
        "feature_space=vectorizer.fit_transform(list(df['transcription_lower']))\n",
        "count_vect_df = pd.DataFrame(feature_space.todense(), columns=vectorizer.get_feature_names())\n",
        "new_df=pd.concat([df, count_vect_df], axis=1)\n",
        "new_df.head()"
      ],
      "metadata": {
        "id": "HZC-N6T8wgBK"
      },
      "execution_count": null,
      "outputs": []
    }
  ]
}